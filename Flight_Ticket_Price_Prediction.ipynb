{
  "nbformat": 4,
  "nbformat_minor": 0,
  "metadata": {
    "kernelspec": {
      "display_name": "Python 3",
      "language": "python",
      "name": "python3"
    },
    "language_info": {
      "codemirror_mode": {
        "name": "ipython",
        "version": 3
      },
      "file_extension": ".py",
      "mimetype": "text/x-python",
      "name": "python",
      "nbconvert_exporter": "python",
      "pygments_lexer": "ipython3",
      "version": "3.9.1"
    },
    "papermill": {
      "duration": 530.844829,
      "end_time": "2020-08-26T06:08:10.647974",
      "environment_variables": {},
      "exception": null,
      "input_path": "__notebook__.ipynb",
      "output_path": "__notebook__.ipynb",
      "parameters": {},
      "start_time": "2020-08-26T05:59:19.803145",
      "version": "2.1.0"
    },
    "colab": {
      "name": "Flight-Ticket-Price-Prediction.ipynb",
      "provenance": []
    }
  },
  "cells": [
    {
      "cell_type": "code",
      "metadata": {
        "id": "pQ_kOgmThINo",
        "outputId": "90d9ec11-823f-412e-efb1-1e6e6478f277"
      },
      "source": [
        "pip install xgboost"
      ],
      "execution_count": null,
      "outputs": [
        {
          "output_type": "stream",
          "text": [
            "Requirement already satisfied: xgboost in c:\\anaconda\\envs\\tensorflow\\lib\\site-packages (1.3.1)\n",
            "Requirement already satisfied: scipy in c:\\anaconda\\envs\\tensorflow\\lib\\site-packages (from xgboost) (1.6.0)\n",
            "Requirement already satisfied: numpy in c:\\anaconda\\envs\\tensorflow\\lib\\site-packages (from xgboost) (1.19.5)\n",
            "Note: you may need to restart the kernel to use updated packages.\n"
          ],
          "name": "stdout"
        }
      ]
    },
    {
      "cell_type": "code",
      "metadata": {
        "id": "PNVQUGDYhINp",
        "outputId": "58d1e895-b38f-4bf1-818a-c0fdfde0b40b"
      },
      "source": [
        "pip install plotly"
      ],
      "execution_count": null,
      "outputs": [
        {
          "output_type": "stream",
          "text": [
            "Requirement already satisfied: plotly in c:\\anaconda\\envs\\tensorflow\\lib\\site-packages (4.14.2)\n",
            "Requirement already satisfied: six in c:\\anaconda\\envs\\tensorflow\\lib\\site-packages (from plotly) (1.15.0)\n",
            "Requirement already satisfied: retrying>=1.3.3 in c:\\anaconda\\envs\\tensorflow\\lib\\site-packages (from plotly) (1.3.3)\n",
            "Note: you may need to restart the kernel to use updated packages.\n"
          ],
          "name": "stdout"
        }
      ]
    },
    {
      "cell_type": "code",
      "metadata": {
        "id": "2v4BhrvohINr",
        "outputId": "8cac3281-e2eb-439f-807d-0e615f988737"
      },
      "source": [
        "pip install mlxtend"
      ],
      "execution_count": null,
      "outputs": [
        {
          "output_type": "stream",
          "text": [
            "Requirement already satisfied: mlxtend in c:\\anaconda\\envs\\tensorflow\\lib\\site-packages (0.18.0)\n",
            "Requirement already satisfied: scikit-learn>=0.20.3 in c:\\anaconda\\envs\\tensorflow\\lib\\site-packages (from mlxtend) (0.24.0)\n",
            "Requirement already satisfied: pandas>=0.24.2 in c:\\anaconda\\envs\\tensorflow\\lib\\site-packages (from mlxtend) (1.2.0)\n",
            "Requirement already satisfied: matplotlib>=3.0.0 in c:\\anaconda\\envs\\tensorflow\\lib\\site-packages (from mlxtend) (3.3.3)\n",
            "Requirement already satisfied: setuptools in c:\\anaconda\\envs\\tensorflow\\lib\\site-packages (from mlxtend) (51.0.0.post20201207)\n",
            "Requirement already satisfied: numpy>=1.16.2 in c:\\anaconda\\envs\\tensorflow\\lib\\site-packages (from mlxtend) (1.19.5)\n",
            "Requirement already satisfied: joblib>=0.13.2 in c:\\anaconda\\envs\\tensorflow\\lib\\site-packages (from mlxtend) (1.0.0)\n",
            "Requirement already satisfied: scipy>=1.2.1 in c:\\anaconda\\envs\\tensorflow\\lib\\site-packages (from mlxtend) (1.6.0)\n",
            "Requirement already satisfied: cycler>=0.10 in c:\\anaconda\\envs\\tensorflow\\lib\\site-packages (from matplotlib>=3.0.0->mlxtend) (0.10.0)\n",
            "Requirement already satisfied: kiwisolver>=1.0.1 in c:\\anaconda\\envs\\tensorflow\\lib\\site-packages (from matplotlib>=3.0.0->mlxtend) (1.3.1)\n",
            "Requirement already satisfied: pillow>=6.2.0 in c:\\anaconda\\envs\\tensorflow\\lib\\site-packages (from matplotlib>=3.0.0->mlxtend) (8.1.0)\n",
            "Requirement already satisfied: python-dateutil>=2.1 in c:\\anaconda\\envs\\tensorflow\\lib\\site-packages (from matplotlib>=3.0.0->mlxtend) (2.8.1)\n",
            "Requirement already satisfied: pyparsing!=2.0.4,!=2.1.2,!=2.1.6,>=2.0.3 in c:\\anaconda\\envs\\tensorflow\\lib\\site-packages (from matplotlib>=3.0.0->mlxtend) (2.4.7)\n",
            "Requirement already satisfied: six in c:\\anaconda\\envs\\tensorflow\\lib\\site-packages (from cycler>=0.10->matplotlib>=3.0.0->mlxtend) (1.15.0)\n",
            "Requirement already satisfied: pytz>=2017.3 in c:\\anaconda\\envs\\tensorflow\\lib\\site-packages (from pandas>=0.24.2->mlxtend) (2020.5)\n",
            "Requirement already satisfied: threadpoolctl>=2.0.0 in c:\\anaconda\\envs\\tensorflow\\lib\\site-packages (from scikit-learn>=0.20.3->mlxtend) (2.1.0)\n",
            "Note: you may need to restart the kernel to use updated packages.\n"
          ],
          "name": "stdout"
        }
      ]
    },
    {
      "cell_type": "code",
      "metadata": {
        "id": "IHfgX_XAhINr",
        "outputId": "4a8fcbdd-563a-4666-a263-200bf41b4649"
      },
      "source": [
        "pip install xlrd"
      ],
      "execution_count": null,
      "outputs": [
        {
          "output_type": "stream",
          "text": [
            "Requirement already satisfied: xlrd in c:\\anaconda\\envs\\tensorflow\\lib\\site-packages (2.0.1)\n",
            "Note: you may need to restart the kernel to use updated packages.\n"
          ],
          "name": "stdout"
        }
      ]
    },
    {
      "cell_type": "code",
      "metadata": {
        "id": "vzx3U-_zhINs",
        "outputId": "8ba245dd-f53d-4d06-9757-c57018b0eda4"
      },
      "source": [
        "pip install openpyxl"
      ],
      "execution_count": null,
      "outputs": [
        {
          "output_type": "stream",
          "text": [
            "Requirement already satisfied: openpyxl in c:\\anaconda\\envs\\tensorflow\\lib\\site-packages (3.0.5)Note: you may need to restart the kernel to use updated packages.\n",
            "\n",
            "Requirement already satisfied: et-xmlfile in c:\\anaconda\\envs\\tensorflow\\lib\\site-packages (from openpyxl) (1.0.1)\n",
            "Requirement already satisfied: jdcal in c:\\anaconda\\envs\\tensorflow\\lib\\site-packages (from openpyxl) (1.4.1)\n"
          ],
          "name": "stdout"
        }
      ]
    },
    {
      "cell_type": "code",
      "metadata": {
        "execution": {
          "iopub.execute_input": "2020-08-26T05:59:24.712824Z",
          "iopub.status.busy": "2020-08-26T05:59:24.712072Z",
          "iopub.status.idle": "2020-08-26T05:59:26.999436Z",
          "shell.execute_reply": "2020-08-26T05:59:26.998437Z"
        },
        "papermill": {
          "duration": 2.325997,
          "end_time": "2020-08-26T05:59:26.999575",
          "exception": false,
          "start_time": "2020-08-26T05:59:24.673578",
          "status": "completed"
        },
        "tags": [],
        "id": "GPoJ6k8OhINt"
      },
      "source": [
        "import pandas as pd\n",
        "import numpy as np\n",
        "import matplotlib.pyplot as plt\n",
        "import seaborn as sns\n",
        "%matplotlib inline\n",
        "\n",
        "import re\n",
        "\n",
        "from sklearn.model_selection import train_test_split\n",
        "from sklearn.preprocessing import StandardScaler\n",
        "\n",
        "from sklearn.metrics import mean_squared_error as mse\n",
        "from sklearn.metrics import r2_score\n",
        "\n",
        "from math import sqrt\n",
        "\n",
        "from sklearn.model_selection import GridSearchCV\n",
        "from sklearn.model_selection import RandomizedSearchCV\n",
        "\n",
        "from sklearn.neighbors import KNeighborsRegressor\n",
        "from sklearn.linear_model import Ridge\n",
        "from sklearn.linear_model import Lasso\n",
        "from sklearn.tree import DecisionTreeRegressor\n",
        "from sklearn.ensemble import RandomForestRegressor\n",
        "from xgboost import XGBRegressor\n",
        "from mlxtend.regressor import StackingRegressor\n",
        "\n",
        "from sklearn.preprocessing import LabelEncoder\n"
      ],
      "execution_count": null,
      "outputs": []
    },
    {
      "cell_type": "code",
      "metadata": {
        "execution": {
          "iopub.execute_input": "2020-08-26T05:59:27.053578Z",
          "iopub.status.busy": "2020-08-26T05:59:27.052786Z",
          "iopub.status.idle": "2020-08-26T05:59:29.700176Z",
          "shell.execute_reply": "2020-08-26T05:59:29.700767Z"
        },
        "papermill": {
          "duration": 2.677289,
          "end_time": "2020-08-26T05:59:29.700919",
          "exception": false,
          "start_time": "2020-08-26T05:59:27.023630",
          "status": "completed"
        },
        "tags": [],
        "id": "cpOlHms5hINu",
        "outputId": "c5cce15d-6d5f-4364-c149-d7c56bb72fc9"
      },
      "source": [
        "df = pd.read_excel('D:/Project series/Flight Price Prediction/Data_Train.xlsx')\n",
        "df.head()"
      ],
      "execution_count": null,
      "outputs": [
        {
          "output_type": "execute_result",
          "data": {
            "text/html": [
              "<div>\n",
              "<style scoped>\n",
              "    .dataframe tbody tr th:only-of-type {\n",
              "        vertical-align: middle;\n",
              "    }\n",
              "\n",
              "    .dataframe tbody tr th {\n",
              "        vertical-align: top;\n",
              "    }\n",
              "\n",
              "    .dataframe thead th {\n",
              "        text-align: right;\n",
              "    }\n",
              "</style>\n",
              "<table border=\"1\" class=\"dataframe\">\n",
              "  <thead>\n",
              "    <tr style=\"text-align: right;\">\n",
              "      <th></th>\n",
              "      <th>Airline</th>\n",
              "      <th>Date_of_Journey</th>\n",
              "      <th>Source</th>\n",
              "      <th>Destination</th>\n",
              "      <th>Route</th>\n",
              "      <th>Dep_Time</th>\n",
              "      <th>Arrival_Time</th>\n",
              "      <th>Duration</th>\n",
              "      <th>Total_Stops</th>\n",
              "      <th>Additional_Info</th>\n",
              "      <th>Price</th>\n",
              "    </tr>\n",
              "  </thead>\n",
              "  <tbody>\n",
              "    <tr>\n",
              "      <th>0</th>\n",
              "      <td>IndiGo</td>\n",
              "      <td>24/03/2019</td>\n",
              "      <td>Banglore</td>\n",
              "      <td>New Delhi</td>\n",
              "      <td>BLR → DEL</td>\n",
              "      <td>22:20</td>\n",
              "      <td>01:10 22 Mar</td>\n",
              "      <td>2h 50m</td>\n",
              "      <td>non-stop</td>\n",
              "      <td>No info</td>\n",
              "      <td>3897</td>\n",
              "    </tr>\n",
              "    <tr>\n",
              "      <th>1</th>\n",
              "      <td>Air India</td>\n",
              "      <td>1/05/2019</td>\n",
              "      <td>Kolkata</td>\n",
              "      <td>Banglore</td>\n",
              "      <td>CCU → IXR → BBI → BLR</td>\n",
              "      <td>05:50</td>\n",
              "      <td>13:15</td>\n",
              "      <td>7h 25m</td>\n",
              "      <td>2 stops</td>\n",
              "      <td>No info</td>\n",
              "      <td>7662</td>\n",
              "    </tr>\n",
              "    <tr>\n",
              "      <th>2</th>\n",
              "      <td>Jet Airways</td>\n",
              "      <td>9/06/2019</td>\n",
              "      <td>Delhi</td>\n",
              "      <td>Cochin</td>\n",
              "      <td>DEL → LKO → BOM → COK</td>\n",
              "      <td>09:25</td>\n",
              "      <td>04:25 10 Jun</td>\n",
              "      <td>19h</td>\n",
              "      <td>2 stops</td>\n",
              "      <td>No info</td>\n",
              "      <td>13882</td>\n",
              "    </tr>\n",
              "    <tr>\n",
              "      <th>3</th>\n",
              "      <td>IndiGo</td>\n",
              "      <td>12/05/2019</td>\n",
              "      <td>Kolkata</td>\n",
              "      <td>Banglore</td>\n",
              "      <td>CCU → NAG → BLR</td>\n",
              "      <td>18:05</td>\n",
              "      <td>23:30</td>\n",
              "      <td>5h 25m</td>\n",
              "      <td>1 stop</td>\n",
              "      <td>No info</td>\n",
              "      <td>6218</td>\n",
              "    </tr>\n",
              "    <tr>\n",
              "      <th>4</th>\n",
              "      <td>IndiGo</td>\n",
              "      <td>01/03/2019</td>\n",
              "      <td>Banglore</td>\n",
              "      <td>New Delhi</td>\n",
              "      <td>BLR → NAG → DEL</td>\n",
              "      <td>16:50</td>\n",
              "      <td>21:35</td>\n",
              "      <td>4h 45m</td>\n",
              "      <td>1 stop</td>\n",
              "      <td>No info</td>\n",
              "      <td>13302</td>\n",
              "    </tr>\n",
              "  </tbody>\n",
              "</table>\n",
              "</div>"
            ],
            "text/plain": [
              "       Airline Date_of_Journey    Source Destination                  Route  \\\n",
              "0       IndiGo      24/03/2019  Banglore   New Delhi              BLR → DEL   \n",
              "1    Air India       1/05/2019   Kolkata    Banglore  CCU → IXR → BBI → BLR   \n",
              "2  Jet Airways       9/06/2019     Delhi      Cochin  DEL → LKO → BOM → COK   \n",
              "3       IndiGo      12/05/2019   Kolkata    Banglore        CCU → NAG → BLR   \n",
              "4       IndiGo      01/03/2019  Banglore   New Delhi        BLR → NAG → DEL   \n",
              "\n",
              "  Dep_Time  Arrival_Time Duration Total_Stops Additional_Info  Price  \n",
              "0    22:20  01:10 22 Mar   2h 50m    non-stop         No info   3897  \n",
              "1    05:50         13:15   7h 25m     2 stops         No info   7662  \n",
              "2    09:25  04:25 10 Jun      19h     2 stops         No info  13882  \n",
              "3    18:05         23:30   5h 25m      1 stop         No info   6218  \n",
              "4    16:50         21:35   4h 45m      1 stop         No info  13302  "
            ]
          },
          "metadata": {
            "tags": []
          },
          "execution_count": 7
        }
      ]
    },
    {
      "cell_type": "code",
      "metadata": {
        "execution": {
          "iopub.execute_input": "2020-08-26T05:59:29.755406Z",
          "iopub.status.busy": "2020-08-26T05:59:29.754359Z",
          "iopub.status.idle": "2020-08-26T05:59:29.758762Z",
          "shell.execute_reply": "2020-08-26T05:59:29.758185Z"
        },
        "papermill": {
          "duration": 0.03398,
          "end_time": "2020-08-26T05:59:29.758884",
          "exception": false,
          "start_time": "2020-08-26T05:59:29.724904",
          "status": "completed"
        },
        "tags": [],
        "id": "JNTEVyxohINv",
        "outputId": "4b7c0172-0971-4e8c-e351-0b2e812e26ca"
      },
      "source": [
        "df.shape"
      ],
      "execution_count": null,
      "outputs": [
        {
          "output_type": "execute_result",
          "data": {
            "text/plain": [
              "(10683, 11)"
            ]
          },
          "metadata": {
            "tags": []
          },
          "execution_count": 8
        }
      ]
    },
    {
      "cell_type": "markdown",
      "metadata": {
        "papermill": {
          "duration": 0.024108,
          "end_time": "2020-08-26T05:59:29.807189",
          "exception": false,
          "start_time": "2020-08-26T05:59:29.783081",
          "status": "completed"
        },
        "tags": [],
        "id": "EPLRawiHhINw"
      },
      "source": [
        "There are 10683 instances each is having 11 different features."
      ]
    },
    {
      "cell_type": "code",
      "metadata": {
        "execution": {
          "iopub.execute_input": "2020-08-26T05:59:29.867124Z",
          "iopub.status.busy": "2020-08-26T05:59:29.866214Z",
          "iopub.status.idle": "2020-08-26T05:59:29.879331Z",
          "shell.execute_reply": "2020-08-26T05:59:29.880059Z"
        },
        "papermill": {
          "duration": 0.049095,
          "end_time": "2020-08-26T05:59:29.880216",
          "exception": false,
          "start_time": "2020-08-26T05:59:29.831121",
          "status": "completed"
        },
        "tags": [],
        "id": "s0deh5CKhINw",
        "outputId": "30b33961-682d-408e-8090-702751a9fd1c"
      },
      "source": [
        "df.describe()"
      ],
      "execution_count": null,
      "outputs": [
        {
          "output_type": "execute_result",
          "data": {
            "text/html": [
              "<div>\n",
              "<style scoped>\n",
              "    .dataframe tbody tr th:only-of-type {\n",
              "        vertical-align: middle;\n",
              "    }\n",
              "\n",
              "    .dataframe tbody tr th {\n",
              "        vertical-align: top;\n",
              "    }\n",
              "\n",
              "    .dataframe thead th {\n",
              "        text-align: right;\n",
              "    }\n",
              "</style>\n",
              "<table border=\"1\" class=\"dataframe\">\n",
              "  <thead>\n",
              "    <tr style=\"text-align: right;\">\n",
              "      <th></th>\n",
              "      <th>Price</th>\n",
              "    </tr>\n",
              "  </thead>\n",
              "  <tbody>\n",
              "    <tr>\n",
              "      <th>count</th>\n",
              "      <td>10683.000000</td>\n",
              "    </tr>\n",
              "    <tr>\n",
              "      <th>mean</th>\n",
              "      <td>9087.064121</td>\n",
              "    </tr>\n",
              "    <tr>\n",
              "      <th>std</th>\n",
              "      <td>4611.359167</td>\n",
              "    </tr>\n",
              "    <tr>\n",
              "      <th>min</th>\n",
              "      <td>1759.000000</td>\n",
              "    </tr>\n",
              "    <tr>\n",
              "      <th>25%</th>\n",
              "      <td>5277.000000</td>\n",
              "    </tr>\n",
              "    <tr>\n",
              "      <th>50%</th>\n",
              "      <td>8372.000000</td>\n",
              "    </tr>\n",
              "    <tr>\n",
              "      <th>75%</th>\n",
              "      <td>12373.000000</td>\n",
              "    </tr>\n",
              "    <tr>\n",
              "      <th>max</th>\n",
              "      <td>79512.000000</td>\n",
              "    </tr>\n",
              "  </tbody>\n",
              "</table>\n",
              "</div>"
            ],
            "text/plain": [
              "              Price\n",
              "count  10683.000000\n",
              "mean    9087.064121\n",
              "std     4611.359167\n",
              "min     1759.000000\n",
              "25%     5277.000000\n",
              "50%     8372.000000\n",
              "75%    12373.000000\n",
              "max    79512.000000"
            ]
          },
          "metadata": {
            "tags": []
          },
          "execution_count": 9
        }
      ]
    },
    {
      "cell_type": "markdown",
      "metadata": {
        "papermill": {
          "duration": 0.023955,
          "end_time": "2020-08-26T05:59:29.928709",
          "exception": false,
          "start_time": "2020-08-26T05:59:29.904754",
          "status": "completed"
        },
        "tags": [],
        "id": "q0FIcNschINw"
      },
      "source": [
        "The maximum ticket price is Rs.79512 and minimum is Rs.1759."
      ]
    },
    {
      "cell_type": "code",
      "metadata": {
        "execution": {
          "iopub.execute_input": "2020-08-26T05:59:29.991931Z",
          "iopub.status.busy": "2020-08-26T05:59:29.983888Z",
          "iopub.status.idle": "2020-08-26T05:59:30.064313Z",
          "shell.execute_reply": "2020-08-26T05:59:30.063549Z"
        },
        "papermill": {
          "duration": 0.111335,
          "end_time": "2020-08-26T05:59:30.064440",
          "exception": false,
          "start_time": "2020-08-26T05:59:29.953105",
          "status": "completed"
        },
        "tags": [],
        "id": "AUNXDjN7hINx",
        "outputId": "0ed95506-38bf-4196-a483-152bc0b84ee7"
      },
      "source": [
        "df.describe(include = ['O'])"
      ],
      "execution_count": null,
      "outputs": [
        {
          "output_type": "execute_result",
          "data": {
            "text/html": [
              "<div>\n",
              "<style scoped>\n",
              "    .dataframe tbody tr th:only-of-type {\n",
              "        vertical-align: middle;\n",
              "    }\n",
              "\n",
              "    .dataframe tbody tr th {\n",
              "        vertical-align: top;\n",
              "    }\n",
              "\n",
              "    .dataframe thead th {\n",
              "        text-align: right;\n",
              "    }\n",
              "</style>\n",
              "<table border=\"1\" class=\"dataframe\">\n",
              "  <thead>\n",
              "    <tr style=\"text-align: right;\">\n",
              "      <th></th>\n",
              "      <th>Airline</th>\n",
              "      <th>Date_of_Journey</th>\n",
              "      <th>Source</th>\n",
              "      <th>Destination</th>\n",
              "      <th>Route</th>\n",
              "      <th>Dep_Time</th>\n",
              "      <th>Arrival_Time</th>\n",
              "      <th>Duration</th>\n",
              "      <th>Total_Stops</th>\n",
              "      <th>Additional_Info</th>\n",
              "    </tr>\n",
              "  </thead>\n",
              "  <tbody>\n",
              "    <tr>\n",
              "      <th>count</th>\n",
              "      <td>10683</td>\n",
              "      <td>10683</td>\n",
              "      <td>10683</td>\n",
              "      <td>10683</td>\n",
              "      <td>10682</td>\n",
              "      <td>10683</td>\n",
              "      <td>10683</td>\n",
              "      <td>10683</td>\n",
              "      <td>10682</td>\n",
              "      <td>10683</td>\n",
              "    </tr>\n",
              "    <tr>\n",
              "      <th>unique</th>\n",
              "      <td>12</td>\n",
              "      <td>44</td>\n",
              "      <td>5</td>\n",
              "      <td>6</td>\n",
              "      <td>128</td>\n",
              "      <td>222</td>\n",
              "      <td>1343</td>\n",
              "      <td>368</td>\n",
              "      <td>5</td>\n",
              "      <td>10</td>\n",
              "    </tr>\n",
              "    <tr>\n",
              "      <th>top</th>\n",
              "      <td>Jet Airways</td>\n",
              "      <td>18/05/2019</td>\n",
              "      <td>Delhi</td>\n",
              "      <td>Cochin</td>\n",
              "      <td>DEL → BOM → COK</td>\n",
              "      <td>18:55</td>\n",
              "      <td>19:00</td>\n",
              "      <td>2h 50m</td>\n",
              "      <td>1 stop</td>\n",
              "      <td>No info</td>\n",
              "    </tr>\n",
              "    <tr>\n",
              "      <th>freq</th>\n",
              "      <td>3849</td>\n",
              "      <td>504</td>\n",
              "      <td>4537</td>\n",
              "      <td>4537</td>\n",
              "      <td>2376</td>\n",
              "      <td>233</td>\n",
              "      <td>423</td>\n",
              "      <td>550</td>\n",
              "      <td>5625</td>\n",
              "      <td>8345</td>\n",
              "    </tr>\n",
              "  </tbody>\n",
              "</table>\n",
              "</div>"
            ],
            "text/plain": [
              "            Airline Date_of_Journey Source Destination            Route  \\\n",
              "count         10683           10683  10683       10683            10682   \n",
              "unique           12              44      5           6              128   \n",
              "top     Jet Airways      18/05/2019  Delhi      Cochin  DEL → BOM → COK   \n",
              "freq           3849             504   4537        4537             2376   \n",
              "\n",
              "       Dep_Time Arrival_Time Duration Total_Stops Additional_Info  \n",
              "count     10683        10683    10683       10682           10683  \n",
              "unique      222         1343      368           5              10  \n",
              "top       18:55        19:00   2h 50m      1 stop         No info  \n",
              "freq        233          423      550        5625            8345  "
            ]
          },
          "metadata": {
            "tags": []
          },
          "execution_count": 10
        }
      ]
    },
    {
      "cell_type": "code",
      "metadata": {
        "execution": {
          "iopub.execute_input": "2020-08-26T05:59:30.120077Z",
          "iopub.status.busy": "2020-08-26T05:59:30.119344Z",
          "iopub.status.idle": "2020-08-26T05:59:30.127405Z",
          "shell.execute_reply": "2020-08-26T05:59:30.127952Z"
        },
        "papermill": {
          "duration": 0.038976,
          "end_time": "2020-08-26T05:59:30.128116",
          "exception": false,
          "start_time": "2020-08-26T05:59:30.089140",
          "status": "completed"
        },
        "tags": [],
        "id": "4FNpNZePhINy",
        "outputId": "bb22b30a-85d2-4457-b6ee-73e4ab925fa7"
      },
      "source": [
        "print(df['Source'].unique())\n",
        "df['Destination'].unique()"
      ],
      "execution_count": null,
      "outputs": [
        {
          "output_type": "stream",
          "text": [
            "['Banglore' 'Kolkata' 'Delhi' 'Chennai' 'Mumbai']\n"
          ],
          "name": "stdout"
        },
        {
          "output_type": "execute_result",
          "data": {
            "text/plain": [
              "array(['New Delhi', 'Banglore', 'Cochin', 'Kolkata', 'Delhi', 'Hyderabad'],\n",
              "      dtype=object)"
            ]
          },
          "metadata": {
            "tags": []
          },
          "execution_count": 11
        }
      ]
    },
    {
      "cell_type": "markdown",
      "metadata": {
        "papermill": {
          "duration": 0.024621,
          "end_time": "2020-08-26T05:59:30.177816",
          "exception": false,
          "start_time": "2020-08-26T05:59:30.153195",
          "status": "completed"
        },
        "tags": [],
        "id": "RJS15KNXhINy"
      },
      "source": [
        "All the flight are from 5 different cities to all other 6 different cities except the same city."
      ]
    },
    {
      "cell_type": "code",
      "metadata": {
        "execution": {
          "iopub.execute_input": "2020-08-26T05:59:30.244952Z",
          "iopub.status.busy": "2020-08-26T05:59:30.244135Z",
          "iopub.status.idle": "2020-08-26T05:59:30.252156Z",
          "shell.execute_reply": "2020-08-26T05:59:30.251498Z"
        },
        "papermill": {
          "duration": 0.049618,
          "end_time": "2020-08-26T05:59:30.252282",
          "exception": false,
          "start_time": "2020-08-26T05:59:30.202664",
          "status": "completed"
        },
        "tags": [],
        "id": "WztpsLMjhINy",
        "outputId": "4464f138-9a33-4cec-ebae-aa726eb53404"
      },
      "source": [
        "df.isnull().sum()"
      ],
      "execution_count": null,
      "outputs": [
        {
          "output_type": "execute_result",
          "data": {
            "text/plain": [
              "Airline            0\n",
              "Date_of_Journey    0\n",
              "Source             0\n",
              "Destination        0\n",
              "Route              1\n",
              "Dep_Time           0\n",
              "Arrival_Time       0\n",
              "Duration           0\n",
              "Total_Stops        1\n",
              "Additional_Info    0\n",
              "Price              0\n",
              "dtype: int64"
            ]
          },
          "metadata": {
            "tags": []
          },
          "execution_count": 12
        }
      ]
    },
    {
      "cell_type": "markdown",
      "metadata": {
        "papermill": {
          "duration": 0.024575,
          "end_time": "2020-08-26T05:59:30.302175",
          "exception": false,
          "start_time": "2020-08-26T05:59:30.277600",
          "status": "completed"
        },
        "tags": [],
        "id": "5lMZhG53hINz"
      },
      "source": [
        "There is only single entry is missing in Route and Total_stops."
      ]
    },
    {
      "cell_type": "markdown",
      "metadata": {
        "papermill": {
          "duration": 0.024442,
          "end_time": "2020-08-26T05:59:30.351615",
          "exception": false,
          "start_time": "2020-08-26T05:59:30.327173",
          "status": "completed"
        },
        "tags": [],
        "id": "U6GYJCSAhINz"
      },
      "source": [
        "#### Sorting the entire dataset on date of journey."
      ]
    },
    {
      "cell_type": "code",
      "metadata": {
        "execution": {
          "iopub.execute_input": "2020-08-26T05:59:30.408377Z",
          "iopub.status.busy": "2020-08-26T05:59:30.407631Z",
          "iopub.status.idle": "2020-08-26T05:59:30.424633Z",
          "shell.execute_reply": "2020-08-26T05:59:30.423902Z"
        },
        "papermill": {
          "duration": 0.048067,
          "end_time": "2020-08-26T05:59:30.424776",
          "exception": false,
          "start_time": "2020-08-26T05:59:30.376709",
          "status": "completed"
        },
        "tags": [],
        "id": "Tn8tYyuPhINz"
      },
      "source": [
        "df.sort_values('Date_of_Journey', inplace = True)"
      ],
      "execution_count": null,
      "outputs": []
    },
    {
      "cell_type": "markdown",
      "metadata": {
        "papermill": {
          "duration": 0.024878,
          "end_time": "2020-08-26T05:59:30.475324",
          "exception": false,
          "start_time": "2020-08-26T05:59:30.450446",
          "status": "completed"
        },
        "tags": [],
        "id": "ju1cBO_1hINz"
      },
      "source": [
        "#### Converting the Date_of_journey into date, month and year."
      ]
    },
    {
      "cell_type": "code",
      "metadata": {
        "execution": {
          "iopub.execute_input": "2020-08-26T05:59:30.542201Z",
          "iopub.status.busy": "2020-08-26T05:59:30.537098Z",
          "iopub.status.idle": "2020-08-26T05:59:31.764317Z",
          "shell.execute_reply": "2020-08-26T05:59:31.763683Z"
        },
        "papermill": {
          "duration": 1.263925,
          "end_time": "2020-08-26T05:59:31.764447",
          "exception": false,
          "start_time": "2020-08-26T05:59:30.500522",
          "status": "completed"
        },
        "tags": [],
        "id": "SXmDJb4whIN0"
      },
      "source": [
        "df['year'] = pd.DatetimeIndex(df['Date_of_Journey']).year\n",
        "df['month'] = pd.DatetimeIndex(df['Date_of_Journey']).month\n",
        "df['Day'] = pd.DatetimeIndex(df['Date_of_Journey']).day"
      ],
      "execution_count": null,
      "outputs": []
    },
    {
      "cell_type": "code",
      "metadata": {
        "execution": {
          "iopub.execute_input": "2020-08-26T05:59:31.821371Z",
          "iopub.status.busy": "2020-08-26T05:59:31.820413Z",
          "iopub.status.idle": "2020-08-26T05:59:31.825217Z",
          "shell.execute_reply": "2020-08-26T05:59:31.825751Z"
        },
        "papermill": {
          "duration": 0.035992,
          "end_time": "2020-08-26T05:59:31.825911",
          "exception": false,
          "start_time": "2020-08-26T05:59:31.789919",
          "status": "completed"
        },
        "tags": [],
        "id": "lYEcuZ0ShIN0",
        "outputId": "b0a8ef4a-c962-4c19-9adf-27b7117f8975"
      },
      "source": [
        "df['Additional_Info'].unique()"
      ],
      "execution_count": null,
      "outputs": [
        {
          "output_type": "execute_result",
          "data": {
            "text/plain": [
              "array(['No info', '1 Long layover', 'Business class', 'Red-eye flight',\n",
              "       'Change airports', '2 Long layover', 'No Info', '1 Short layover',\n",
              "       'In-flight meal not included', 'No check-in baggage included'],\n",
              "      dtype=object)"
            ]
          },
          "metadata": {
            "tags": []
          },
          "execution_count": 15
        }
      ]
    },
    {
      "cell_type": "code",
      "metadata": {
        "execution": {
          "iopub.execute_input": "2020-08-26T05:59:31.883707Z",
          "iopub.status.busy": "2020-08-26T05:59:31.882989Z",
          "iopub.status.idle": "2020-08-26T05:59:32.175420Z",
          "shell.execute_reply": "2020-08-26T05:59:32.174753Z"
        },
        "papermill": {
          "duration": 0.324281,
          "end_time": "2020-08-26T05:59:32.175538",
          "exception": false,
          "start_time": "2020-08-26T05:59:31.851257",
          "status": "completed"
        },
        "tags": [],
        "id": "BZ7KY2wghIN1",
        "outputId": "7387de54-3f24-472a-ca91-f279a533ab54"
      },
      "source": [
        "plt.figure(figsize = (10, 10))\n",
        "plt.title('Price VS Additional Information')\n",
        "plt.scatter(df['Additional_Info'], df['Price'])\n",
        "plt.xticks(rotation = 90)\n",
        "plt.xlabel('Information')\n",
        "plt.ylabel('Price of ticket')"
      ],
      "execution_count": null,
      "outputs": [
        {
          "output_type": "execute_result",
          "data": {
            "text/plain": [
              "Text(0, 0.5, 'Price of ticket')"
            ]
          },
          "metadata": {
            "tags": []
          },
          "execution_count": 16
        },
        {
          "output_type": "display_data",
          "data": {
            "image/png": "[encoded data removed]",
            "text/plain": [
              "<Figure size 720x720 with 1 Axes>"
            ]
          },
          "metadata": {
            "tags": [],
            "needs_background": "light"
          }
        }
      ]
    },
    {
      "cell_type": "markdown",
      "metadata": {
        "papermill": {
          "duration": 0.026243,
          "end_time": "2020-08-26T05:59:32.228543",
          "exception": false,
          "start_time": "2020-08-26T05:59:32.202300",
          "status": "completed"
        },
        "tags": [],
        "id": "10pxJFmRhIN1"
      },
      "source": [
        "From above scatter plot it is clear that the ticket prices for Business class is higher which is quite obivious."
      ]
    },
    {
      "cell_type": "code",
      "metadata": {
        "execution": {
          "iopub.execute_input": "2020-08-26T05:59:32.294097Z",
          "iopub.status.busy": "2020-08-26T05:59:32.289200Z",
          "iopub.status.idle": "2020-08-26T05:59:32.470654Z",
          "shell.execute_reply": "2020-08-26T05:59:32.470064Z"
        },
        "papermill": {
          "duration": 0.215482,
          "end_time": "2020-08-26T05:59:32.470802",
          "exception": false,
          "start_time": "2020-08-26T05:59:32.255320",
          "status": "completed"
        },
        "tags": [],
        "id": "t3rlOsPuhIN1",
        "outputId": "c48f6b9f-3ceb-4994-990c-11cb92804477"
      },
      "source": [
        "plt.figure(figsize = (10 , 10))\n",
        "plt.title('Count of flights month wise')\n",
        "sns.countplot(x = 'month', data = df)\n",
        "plt.xlabel('Month')\n",
        "plt.ylabel('Count of flights')"
      ],
      "execution_count": null,
      "outputs": [
        {
          "output_type": "execute_result",
          "data": {
            "text/plain": [
              "Text(0, 0.5, 'Count of flights')"
            ]
          },
          "metadata": {
            "tags": []
          },
          "execution_count": 17
        },
        {
          "output_type": "display_data",
          "data": {
            "image/png": "[encoded data removed]",
            "text/plain": [
              "<Figure size 720x720 with 1 Axes>"
            ]
          },
          "metadata": {
            "tags": [],
            "needs_background": "light"
          }
        }
      ]
    },
    {
      "cell_type": "markdown",
      "metadata": {
        "papermill": {
          "duration": 0.026181,
          "end_time": "2020-08-26T05:59:32.523628",
          "exception": false,
          "start_time": "2020-08-26T05:59:32.497447",
          "status": "completed"
        },
        "tags": [],
        "id": "3SUjSlG2hIN2"
      },
      "source": [
        "There are around 2500 flights scheduled in the month of may so at this time can be the peak month for the airlines as compared to april which seems like slack season for airlines."
      ]
    },
    {
      "cell_type": "code",
      "metadata": {
        "execution": {
          "iopub.execute_input": "2020-08-26T05:59:32.590334Z",
          "iopub.status.busy": "2020-08-26T05:59:32.589519Z",
          "iopub.status.idle": "2020-08-26T05:59:32.822115Z",
          "shell.execute_reply": "2020-08-26T05:59:32.821334Z"
        },
        "papermill": {
          "duration": 0.272113,
          "end_time": "2020-08-26T05:59:32.822247",
          "exception": false,
          "start_time": "2020-08-26T05:59:32.550134",
          "status": "completed"
        },
        "tags": [],
        "id": "CwLAXRtmhIN2",
        "outputId": "806224ac-5b94-4452-dd6f-060de9cc5192"
      },
      "source": [
        "plt.figure(figsize = (10, 10))\n",
        "plt.title('Price VS Airlines')\n",
        "plt.scatter(df['Airline'], df['Price'])\n",
        "plt.xticks(rotation = 90)\n",
        "plt.xlabel('Airline')\n",
        "plt.ylabel('Price of ticket')\n",
        "plt.xticks(rotation = 90)"
      ],
      "execution_count": null,
      "outputs": [
        {
          "output_type": "execute_result",
          "data": {
            "text/plain": [
              "([0, 1, 2, 3, 4, 5, 6, 7, 8, 9, 10, 11],\n",
              " [Text(0, 0, ''),\n",
              "  Text(0, 0, ''),\n",
              "  Text(0, 0, ''),\n",
              "  Text(0, 0, ''),\n",
              "  Text(0, 0, ''),\n",
              "  Text(0, 0, ''),\n",
              "  Text(0, 0, ''),\n",
              "  Text(0, 0, ''),\n",
              "  Text(0, 0, ''),\n",
              "  Text(0, 0, ''),\n",
              "  Text(0, 0, ''),\n",
              "  Text(0, 0, '')])"
            ]
          },
          "metadata": {
            "tags": []
          },
          "execution_count": 18
        },
        {
          "output_type": "display_data",
          "data": {
            "image/png": "[encoded data removed]",
            "text/plain": [
              "<Figure size 720x720 with 1 Axes>"
            ]
          },
          "metadata": {
            "tags": [],
            "needs_background": "light"
          }
        }
      ]
    },
    {
      "cell_type": "markdown",
      "metadata": {
        "papermill": {
          "duration": 0.027007,
          "end_time": "2020-08-26T05:59:32.876762",
          "exception": false,
          "start_time": "2020-08-26T05:59:32.849755",
          "status": "completed"
        },
        "tags": [],
        "id": "BotI1nWthIN2"
      },
      "source": [
        "The ticket rate for Jet Airways Business airline is high."
      ]
    },
    {
      "cell_type": "code",
      "metadata": {
        "execution": {
          "iopub.execute_input": "2020-08-26T05:59:32.946781Z",
          "iopub.status.busy": "2020-08-26T05:59:32.943336Z",
          "iopub.status.idle": "2020-08-26T05:59:33.183427Z",
          "shell.execute_reply": "2020-08-26T05:59:33.183997Z"
        },
        "papermill": {
          "duration": 0.280248,
          "end_time": "2020-08-26T05:59:33.184161",
          "exception": false,
          "start_time": "2020-08-26T05:59:32.903913",
          "status": "completed"
        },
        "tags": [],
        "id": "mkl29yj4hIN2",
        "outputId": "50f4fd77-d043-49d7-9fc5-835c605c78bf"
      },
      "source": [
        "plt.figure(figsize = (10, 10))\n",
        "plt.title('Count of flights with different Airlines')\n",
        "sns.countplot(x = 'Airline', data = df)\n",
        "plt.xlabel('Airline')\n",
        "plt.ylabel('Count of flights')\n",
        "plt.xticks(rotation = 90)"
      ],
      "execution_count": null,
      "outputs": [
        {
          "output_type": "execute_result",
          "data": {
            "text/plain": [
              "(array([ 0,  1,  2,  3,  4,  5,  6,  7,  8,  9, 10, 11]),\n",
              " [Text(0, 0, 'Air India'),\n",
              "  Text(1, 0, 'Jet Airways'),\n",
              "  Text(2, 0, 'IndiGo'),\n",
              "  Text(3, 0, 'Jet Airways Business'),\n",
              "  Text(4, 0, 'Air Asia'),\n",
              "  Text(5, 0, 'SpiceJet'),\n",
              "  Text(6, 0, 'Vistara'),\n",
              "  Text(7, 0, 'GoAir'),\n",
              "  Text(8, 0, 'Vistara Premium economy'),\n",
              "  Text(9, 0, 'Multiple carriers'),\n",
              "  Text(10, 0, 'Multiple carriers Premium economy'),\n",
              "  Text(11, 0, 'Trujet')])"
            ]
          },
          "metadata": {
            "tags": []
          },
          "execution_count": 19
        },
        {
          "output_type": "display_data",
          "data": {
            "image/png": "[encoded data removed]",
            "text/plain": [
              "<Figure size 720x720 with 1 Axes>"
            ]
          },
          "metadata": {
            "tags": [],
            "needs_background": "light"
          }
        }
      ]
    },
    {
      "cell_type": "markdown",
      "metadata": {
        "papermill": {
          "duration": 0.027839,
          "end_time": "2020-08-26T05:59:33.239830",
          "exception": false,
          "start_time": "2020-08-26T05:59:33.211991",
          "status": "completed"
        },
        "tags": [],
        "id": "tI_yB4kLhIN3"
      },
      "source": [
        "* There are more number of flights of Jet Airways. \n",
        "* Jet Airways Business, Vistara Premium economy, Trujet have actually almost negligible flights."
      ]
    },
    {
      "cell_type": "markdown",
      "metadata": {
        "papermill": {
          "duration": 0.027185,
          "end_time": "2020-08-26T05:59:33.295692",
          "exception": false,
          "start_time": "2020-08-26T05:59:33.268507",
          "status": "completed"
        },
        "tags": [],
        "id": "4eXTmZr7hIN3"
      },
      "source": [
        "#### Converting sparse classes of Airline into one category"
      ]
    },
    {
      "cell_type": "code",
      "metadata": {
        "execution": {
          "iopub.execute_input": "2020-08-26T05:59:33.359046Z",
          "iopub.status.busy": "2020-08-26T05:59:33.358281Z",
          "iopub.status.idle": "2020-08-26T05:59:33.361556Z",
          "shell.execute_reply": "2020-08-26T05:59:33.360997Z"
        },
        "papermill": {
          "duration": 0.038328,
          "end_time": "2020-08-26T05:59:33.361676",
          "exception": false,
          "start_time": "2020-08-26T05:59:33.323348",
          "status": "completed"
        },
        "tags": [],
        "id": "bCtmI8XKhIN3"
      },
      "source": [
        "df['Airline'].replace(['Trujet', 'Vistara Premium economy'], 'Another', inplace = True)"
      ],
      "execution_count": null,
      "outputs": []
    },
    {
      "cell_type": "markdown",
      "metadata": {
        "papermill": {
          "duration": 0.027672,
          "end_time": "2020-08-26T05:59:33.417218",
          "exception": false,
          "start_time": "2020-08-26T05:59:33.389546",
          "status": "completed"
        },
        "tags": [],
        "id": "PBh4W_RLhIN3"
      },
      "source": [
        "#### Converting the Total_Stops into numbers and dropping the rows with NaN."
      ]
    },
    {
      "cell_type": "code",
      "metadata": {
        "execution": {
          "iopub.execute_input": "2020-08-26T05:59:33.480476Z",
          "iopub.status.busy": "2020-08-26T05:59:33.479678Z",
          "iopub.status.idle": "2020-08-26T05:59:33.496706Z",
          "shell.execute_reply": "2020-08-26T05:59:33.495964Z"
        },
        "papermill": {
          "duration": 0.051486,
          "end_time": "2020-08-26T05:59:33.496850",
          "exception": false,
          "start_time": "2020-08-26T05:59:33.445364",
          "status": "completed"
        },
        "tags": [],
        "id": "xm2WjHVFhIN4",
        "outputId": "5d6f61cd-0581-4dc0-dffa-d1eebd36d151"
      },
      "source": [
        "df[df['Total_Stops'].isnull()]"
      ],
      "execution_count": null,
      "outputs": [
        {
          "output_type": "execute_result",
          "data": {
            "text/html": [
              "<div>\n",
              "<style scoped>\n",
              "    .dataframe tbody tr th:only-of-type {\n",
              "        vertical-align: middle;\n",
              "    }\n",
              "\n",
              "    .dataframe tbody tr th {\n",
              "        vertical-align: top;\n",
              "    }\n",
              "\n",
              "    .dataframe thead th {\n",
              "        text-align: right;\n",
              "    }\n",
              "</style>\n",
              "<table border=\"1\" class=\"dataframe\">\n",
              "  <thead>\n",
              "    <tr style=\"text-align: right;\">\n",
              "      <th></th>\n",
              "      <th>Airline</th>\n",
              "      <th>Date_of_Journey</th>\n",
              "      <th>Source</th>\n",
              "      <th>Destination</th>\n",
              "      <th>Route</th>\n",
              "      <th>Dep_Time</th>\n",
              "      <th>Arrival_Time</th>\n",
              "      <th>Duration</th>\n",
              "      <th>Total_Stops</th>\n",
              "      <th>Additional_Info</th>\n",
              "      <th>Price</th>\n",
              "      <th>year</th>\n",
              "      <th>month</th>\n",
              "      <th>Day</th>\n",
              "    </tr>\n",
              "  </thead>\n",
              "  <tbody>\n",
              "    <tr>\n",
              "      <th>9039</th>\n",
              "      <td>Air India</td>\n",
              "      <td>6/05/2019</td>\n",
              "      <td>Delhi</td>\n",
              "      <td>Cochin</td>\n",
              "      <td>NaN</td>\n",
              "      <td>09:45</td>\n",
              "      <td>09:25 07 May</td>\n",
              "      <td>23h 40m</td>\n",
              "      <td>NaN</td>\n",
              "      <td>No info</td>\n",
              "      <td>7480</td>\n",
              "      <td>2019</td>\n",
              "      <td>6</td>\n",
              "      <td>5</td>\n",
              "    </tr>\n",
              "  </tbody>\n",
              "</table>\n",
              "</div>"
            ],
            "text/plain": [
              "        Airline Date_of_Journey Source Destination Route Dep_Time  \\\n",
              "9039  Air India       6/05/2019  Delhi      Cochin   NaN    09:45   \n",
              "\n",
              "      Arrival_Time Duration Total_Stops Additional_Info  Price  year  month  \\\n",
              "9039  09:25 07 May  23h 40m         NaN         No info   7480  2019      6   \n",
              "\n",
              "      Day  \n",
              "9039    5  "
            ]
          },
          "metadata": {
            "tags": []
          },
          "execution_count": 21
        }
      ]
    },
    {
      "cell_type": "code",
      "metadata": {
        "execution": {
          "iopub.execute_input": "2020-08-26T05:59:33.570607Z",
          "iopub.status.busy": "2020-08-26T05:59:33.569850Z",
          "iopub.status.idle": "2020-08-26T05:59:33.577567Z",
          "shell.execute_reply": "2020-08-26T05:59:33.576837Z"
        },
        "papermill": {
          "duration": 0.052577,
          "end_time": "2020-08-26T05:59:33.577693",
          "exception": false,
          "start_time": "2020-08-26T05:59:33.525116",
          "status": "completed"
        },
        "tags": [],
        "id": "UeNYB266hIN4"
      },
      "source": [
        "df.dropna(axis = 0, inplace = True)"
      ],
      "execution_count": null,
      "outputs": []
    },
    {
      "cell_type": "code",
      "metadata": {
        "execution": {
          "iopub.execute_input": "2020-08-26T05:59:33.687163Z",
          "iopub.status.busy": "2020-08-26T05:59:33.686412Z",
          "iopub.status.idle": "2020-08-26T05:59:33.688953Z",
          "shell.execute_reply": "2020-08-26T05:59:33.689506Z"
        },
        "papermill": {
          "duration": 0.083511,
          "end_time": "2020-08-26T05:59:33.689658",
          "exception": false,
          "start_time": "2020-08-26T05:59:33.606147",
          "status": "completed"
        },
        "tags": [],
        "id": "MqMAbKEjhIN4"
      },
      "source": [
        "def convert_into_stops(X):\n",
        "    if X == '4 stops':\n",
        "        return 4\n",
        "    elif X == '3 stops':\n",
        "        return 3\n",
        "    elif X == '2 stops':\n",
        "        return 2\n",
        "    elif X == '1 stop':\n",
        "        return 1\n",
        "    elif X == 'non stop':\n",
        "        return 0"
      ],
      "execution_count": null,
      "outputs": []
    },
    {
      "cell_type": "code",
      "metadata": {
        "execution": {
          "iopub.execute_input": "2020-08-26T05:59:33.762476Z",
          "iopub.status.busy": "2020-08-26T05:59:33.761690Z",
          "iopub.status.idle": "2020-08-26T05:59:33.765234Z",
          "shell.execute_reply": "2020-08-26T05:59:33.764613Z"
        },
        "papermill": {
          "duration": 0.047476,
          "end_time": "2020-08-26T05:59:33.765353",
          "exception": false,
          "start_time": "2020-08-26T05:59:33.717877",
          "status": "completed"
        },
        "tags": [],
        "id": "LI-vKOkrhIN4"
      },
      "source": [
        "df['Total_Stops'] = df['Total_Stops'].map(convert_into_stops)"
      ],
      "execution_count": null,
      "outputs": []
    },
    {
      "cell_type": "code",
      "metadata": {
        "execution": {
          "iopub.execute_input": "2020-08-26T05:59:33.841458Z",
          "iopub.status.busy": "2020-08-26T05:59:33.840366Z",
          "iopub.status.idle": "2020-08-26T05:59:33.854536Z",
          "shell.execute_reply": "2020-08-26T05:59:33.855145Z"
        },
        "papermill": {
          "duration": 0.06136,
          "end_time": "2020-08-26T05:59:33.855303",
          "exception": false,
          "start_time": "2020-08-26T05:59:33.793943",
          "status": "completed"
        },
        "tags": [],
        "id": "athqgqGfhIN4"
      },
      "source": [
        "df.fillna(0, inplace  = True)\n",
        "df['Total_Stops'] = df['Total_Stops'].apply(lambda x : int(x))"
      ],
      "execution_count": null,
      "outputs": []
    },
    {
      "cell_type": "markdown",
      "metadata": {
        "papermill": {
          "duration": 0.027951,
          "end_time": "2020-08-26T05:59:33.911477",
          "exception": false,
          "start_time": "2020-08-26T05:59:33.883526",
          "status": "completed"
        },
        "tags": [],
        "id": "XpE1-aG2hIN5"
      },
      "source": [
        "#### Converting the flight Dep_Time into proper time i.e. mid_night, morning, afternoon and evening."
      ]
    },
    {
      "cell_type": "code",
      "metadata": {
        "execution": {
          "iopub.execute_input": "2020-08-26T05:59:33.978328Z",
          "iopub.status.busy": "2020-08-26T05:59:33.977557Z",
          "iopub.status.idle": "2020-08-26T05:59:33.980451Z",
          "shell.execute_reply": "2020-08-26T05:59:33.980999Z"
        },
        "papermill": {
          "duration": 0.041512,
          "end_time": "2020-08-26T05:59:33.981161",
          "exception": false,
          "start_time": "2020-08-26T05:59:33.939649",
          "status": "completed"
        },
        "tags": [],
        "id": "xPWTbMIyhIN5"
      },
      "source": [
        "def flight_dep_time(X):\n",
        "    '''\n",
        "    This function takes the flight Departure time \n",
        "    and convert into appropriate format.\n",
        "    '''\n",
        "    if int(X[:2]) >= 0 and int(X[:2]) < 6:\n",
        "        return 'mid_night'\n",
        "    elif int(X[:2]) >= 6 and int(X[:2]) < 12:\n",
        "        return 'morning'\n",
        "    elif int(X[:2]) >= 12 and int(X[:2]) < 18:\n",
        "        return 'afternoon'\n",
        "    elif int(X[:2]) >= 18 and int(X[:2]) < 24:\n",
        "        return 'evening'"
      ],
      "execution_count": null,
      "outputs": []
    },
    {
      "cell_type": "code",
      "metadata": {
        "execution": {
          "iopub.execute_input": "2020-08-26T05:59:34.059018Z",
          "iopub.status.busy": "2020-08-26T05:59:34.053979Z",
          "iopub.status.idle": "2020-08-26T05:59:34.074757Z",
          "shell.execute_reply": "2020-08-26T05:59:34.074017Z"
        },
        "papermill": {
          "duration": 0.064987,
          "end_time": "2020-08-26T05:59:34.074891",
          "exception": false,
          "start_time": "2020-08-26T05:59:34.009904",
          "status": "completed"
        },
        "tags": [],
        "id": "oGtkjjv8hIN5"
      },
      "source": [
        "df['flight_time'] = df['Dep_Time'].apply(flight_dep_time)"
      ],
      "execution_count": null,
      "outputs": []
    },
    {
      "cell_type": "code",
      "metadata": {
        "execution": {
          "iopub.execute_input": "2020-08-26T05:59:34.252621Z",
          "iopub.status.busy": "2020-08-26T05:59:34.251697Z",
          "iopub.status.idle": "2020-08-26T05:59:34.423501Z",
          "shell.execute_reply": "2020-08-26T05:59:34.424103Z"
        },
        "papermill": {
          "duration": 0.320512,
          "end_time": "2020-08-26T05:59:34.424290",
          "exception": false,
          "start_time": "2020-08-26T05:59:34.103778",
          "status": "completed"
        },
        "tags": [],
        "id": "9ksR4xqthIN5",
        "outputId": "7c1aff01-ec90-408b-9f5e-28768fdc61db"
      },
      "source": [
        "plt.figure(figsize = (10, 10))\n",
        "plt.title('Count of flights according to departure time')\n",
        "sns.countplot(x = 'flight_time', data = df)\n",
        "plt.xlabel('Flight Time')\n",
        "plt.ylabel('Count of flights')"
      ],
      "execution_count": null,
      "outputs": [
        {
          "output_type": "execute_result",
          "data": {
            "text/plain": [
              "Text(0, 0.5, 'Count of flights')"
            ]
          },
          "metadata": {
            "tags": []
          },
          "execution_count": 28
        },
        {
          "output_type": "display_data",
          "data": {
            "image/png": "[encoded data removed]",
            "text/plain": [
              "<Figure size 720x720 with 1 Axes>"
            ]
          },
          "metadata": {
            "tags": [],
            "needs_background": "light"
          }
        }
      ]
    },
    {
      "cell_type": "markdown",
      "metadata": {
        "papermill": {
          "duration": 0.028651,
          "end_time": "2020-08-26T05:59:34.482065",
          "exception": false,
          "start_time": "2020-08-26T05:59:34.453414",
          "status": "completed"
        },
        "tags": [],
        "id": "uGw0Ky_YhIN6"
      },
      "source": [
        "* There are more number of flights in the morning time as compared to other time."
      ]
    },
    {
      "cell_type": "markdown",
      "metadata": {
        "papermill": {
          "duration": 0.028302,
          "end_time": "2020-08-26T05:59:34.539155",
          "exception": false,
          "start_time": "2020-08-26T05:59:34.510853",
          "status": "completed"
        },
        "tags": [],
        "id": "IUvOJ5mShIN6"
      },
      "source": [
        "#### Converting the flight duration into seconds."
      ]
    },
    {
      "cell_type": "code",
      "metadata": {
        "execution": {
          "iopub.execute_input": "2020-08-26T05:59:34.625807Z",
          "iopub.status.busy": "2020-08-26T05:59:34.620661Z",
          "iopub.status.idle": "2020-08-26T05:59:34.668550Z",
          "shell.execute_reply": "2020-08-26T05:59:34.667775Z"
        },
        "papermill": {
          "duration": 0.100739,
          "end_time": "2020-08-26T05:59:34.668672",
          "exception": false,
          "start_time": "2020-08-26T05:59:34.567933",
          "status": "completed"
        },
        "tags": [],
        "id": "O4_xhwx2hIN6"
      },
      "source": [
        "def convert_into_seconds(X):\n",
        "    '''\n",
        "    This function takes the total time of flight from\n",
        "    one city to another and converts it into the seconds.\n",
        "    '''\n",
        "    a = [int(s) for s in re.findall(r'-?\\d+\\.?\\d*', X)]\n",
        "    if len(a) == 2:\n",
        "        hr = a[0] * 3600\n",
        "        min = a[1] * 60\n",
        "    else:\n",
        "        hr = a[0] * 3600\n",
        "        min = 0   \n",
        "    total = hr + min\n",
        "    return total\n",
        "\n",
        "df['Duration(sec)'] = df['Duration'].map(convert_into_seconds)"
      ],
      "execution_count": null,
      "outputs": []
    },
    {
      "cell_type": "code",
      "metadata": {
        "execution": {
          "iopub.execute_input": "2020-08-26T05:59:34.741439Z",
          "iopub.status.busy": "2020-08-26T05:59:34.739749Z",
          "iopub.status.idle": "2020-08-26T05:59:34.961345Z",
          "shell.execute_reply": "2020-08-26T05:59:34.960739Z"
        },
        "papermill": {
          "duration": 0.263573,
          "end_time": "2020-08-26T05:59:34.961468",
          "exception": false,
          "start_time": "2020-08-26T05:59:34.697895",
          "status": "completed"
        },
        "tags": [],
        "id": "FOo2L2CGhIN7",
        "outputId": "da8a5730-066c-4d9d-9e7c-e785aee710b0"
      },
      "source": [
        "plt.figure(figsize = (10, 10))\n",
        "plt.title('Price VS duration of flights')\n",
        "plt.scatter(df['Duration(sec)'], df['Price'])\n",
        "plt.xlabel('Duartion in seconds')\n",
        "plt.ylabel('Price of ticket')"
      ],
      "execution_count": null,
      "outputs": [
        {
          "output_type": "execute_result",
          "data": {
            "text/plain": [
              "Text(0, 0.5, 'Price of ticket')"
            ]
          },
          "metadata": {
            "tags": []
          },
          "execution_count": 30
        },
        {
          "output_type": "display_data",
          "data": {
            "image/png": "[encoded data removed]",
            "text/plain": [
              "<Figure size 720x720 with 1 Axes>"
            ]
          },
          "metadata": {
            "tags": [],
            "needs_background": "light"
          }
        }
      ]
    },
    {
      "cell_type": "code",
      "metadata": {
        "execution": {
          "iopub.execute_input": "2020-08-26T05:59:35.026951Z",
          "iopub.status.busy": "2020-08-26T05:59:35.025856Z",
          "iopub.status.idle": "2020-08-26T05:59:35.044171Z",
          "shell.execute_reply": "2020-08-26T05:59:35.043432Z"
        },
        "papermill": {
          "duration": 0.053119,
          "end_time": "2020-08-26T05:59:35.044292",
          "exception": false,
          "start_time": "2020-08-26T05:59:34.991173",
          "status": "completed"
        },
        "tags": [],
        "id": "joOSTyWBhIN7",
        "outputId": "90f26cd4-6a52-4755-caf2-9f0ce32afb1a"
      },
      "source": [
        "df.corr()"
      ],
      "execution_count": null,
      "outputs": [
        {
          "output_type": "execute_result",
          "data": {
            "text/html": [
              "<div>\n",
              "<style scoped>\n",
              "    .dataframe tbody tr th:only-of-type {\n",
              "        vertical-align: middle;\n",
              "    }\n",
              "\n",
              "    .dataframe tbody tr th {\n",
              "        vertical-align: top;\n",
              "    }\n",
              "\n",
              "    .dataframe thead th {\n",
              "        text-align: right;\n",
              "    }\n",
              "</style>\n",
              "<table border=\"1\" class=\"dataframe\">\n",
              "  <thead>\n",
              "    <tr style=\"text-align: right;\">\n",
              "      <th></th>\n",
              "      <th>Total_Stops</th>\n",
              "      <th>Price</th>\n",
              "      <th>year</th>\n",
              "      <th>month</th>\n",
              "      <th>Day</th>\n",
              "      <th>Duration(sec)</th>\n",
              "    </tr>\n",
              "  </thead>\n",
              "  <tbody>\n",
              "    <tr>\n",
              "      <th>Total_Stops</th>\n",
              "      <td>1.000000</td>\n",
              "      <td>0.603897</td>\n",
              "      <td>NaN</td>\n",
              "      <td>0.065495</td>\n",
              "      <td>-0.024136</td>\n",
              "      <td>0.738204</td>\n",
              "    </tr>\n",
              "    <tr>\n",
              "      <th>Price</th>\n",
              "      <td>0.603897</td>\n",
              "      <td>1.000000</td>\n",
              "      <td>NaN</td>\n",
              "      <td>0.010705</td>\n",
              "      <td>-0.165448</td>\n",
              "      <td>0.506604</td>\n",
              "    </tr>\n",
              "    <tr>\n",
              "      <th>year</th>\n",
              "      <td>NaN</td>\n",
              "      <td>NaN</td>\n",
              "      <td>NaN</td>\n",
              "      <td>NaN</td>\n",
              "      <td>NaN</td>\n",
              "      <td>NaN</td>\n",
              "    </tr>\n",
              "    <tr>\n",
              "      <th>month</th>\n",
              "      <td>0.065495</td>\n",
              "      <td>0.010705</td>\n",
              "      <td>NaN</td>\n",
              "      <td>1.000000</td>\n",
              "      <td>-0.264896</td>\n",
              "      <td>0.055147</td>\n",
              "    </tr>\n",
              "    <tr>\n",
              "      <th>Day</th>\n",
              "      <td>-0.024136</td>\n",
              "      <td>-0.165448</td>\n",
              "      <td>NaN</td>\n",
              "      <td>-0.264896</td>\n",
              "      <td>1.000000</td>\n",
              "      <td>-0.038422</td>\n",
              "    </tr>\n",
              "    <tr>\n",
              "      <th>Duration(sec)</th>\n",
              "      <td>0.738204</td>\n",
              "      <td>0.506604</td>\n",
              "      <td>NaN</td>\n",
              "      <td>0.055147</td>\n",
              "      <td>-0.038422</td>\n",
              "      <td>1.000000</td>\n",
              "    </tr>\n",
              "  </tbody>\n",
              "</table>\n",
              "</div>"
            ],
            "text/plain": [
              "               Total_Stops     Price  year     month       Day  Duration(sec)\n",
              "Total_Stops       1.000000  0.603897   NaN  0.065495 -0.024136       0.738204\n",
              "Price             0.603897  1.000000   NaN  0.010705 -0.165448       0.506604\n",
              "year                   NaN       NaN   NaN       NaN       NaN            NaN\n",
              "month             0.065495  0.010705   NaN  1.000000 -0.264896       0.055147\n",
              "Day              -0.024136 -0.165448   NaN -0.264896  1.000000      -0.038422\n",
              "Duration(sec)     0.738204  0.506604   NaN  0.055147 -0.038422       1.000000"
            ]
          },
          "metadata": {
            "tags": []
          },
          "execution_count": 31
        }
      ]
    },
    {
      "cell_type": "markdown",
      "metadata": {
        "papermill": {
          "duration": 0.029679,
          "end_time": "2020-08-26T05:59:35.103919",
          "exception": false,
          "start_time": "2020-08-26T05:59:35.074240",
          "status": "completed"
        },
        "tags": [],
        "id": "JN9iYy_ChIN7"
      },
      "source": [
        "It is important to notice that the correlation for 'year' is shown NaN. This is because that feature is not vary at all."
      ]
    },
    {
      "cell_type": "markdown",
      "metadata": {
        "papermill": {
          "duration": 0.029683,
          "end_time": "2020-08-26T05:59:35.163603",
          "exception": false,
          "start_time": "2020-08-26T05:59:35.133920",
          "status": "completed"
        },
        "tags": [],
        "id": "kU5uR-HuhIN7"
      },
      "source": [
        "#### Dropping the duplicate rows."
      ]
    },
    {
      "cell_type": "code",
      "metadata": {
        "execution": {
          "iopub.execute_input": "2020-08-26T05:59:35.231403Z",
          "iopub.status.busy": "2020-08-26T05:59:35.230093Z",
          "iopub.status.idle": "2020-08-26T05:59:35.236331Z",
          "shell.execute_reply": "2020-08-26T05:59:35.235586Z"
        },
        "papermill": {
          "duration": 0.042991,
          "end_time": "2020-08-26T05:59:35.236464",
          "exception": false,
          "start_time": "2020-08-26T05:59:35.193473",
          "status": "completed"
        },
        "tags": [],
        "id": "TFGzeCMchIN8",
        "outputId": "57690331-4055-4791-fb32-b9952c61919d"
      },
      "source": [
        "df.shape"
      ],
      "execution_count": null,
      "outputs": [
        {
          "output_type": "execute_result",
          "data": {
            "text/plain": [
              "(10682, 16)"
            ]
          },
          "metadata": {
            "tags": []
          },
          "execution_count": 32
        }
      ]
    },
    {
      "cell_type": "code",
      "metadata": {
        "execution": {
          "iopub.execute_input": "2020-08-26T05:59:35.304224Z",
          "iopub.status.busy": "2020-08-26T05:59:35.303186Z",
          "iopub.status.idle": "2020-08-26T05:59:35.329076Z",
          "shell.execute_reply": "2020-08-26T05:59:35.328352Z"
        },
        "papermill": {
          "duration": 0.061608,
          "end_time": "2020-08-26T05:59:35.329207",
          "exception": false,
          "start_time": "2020-08-26T05:59:35.267599",
          "status": "completed"
        },
        "tags": [],
        "id": "z9XIjKH5hIN8",
        "outputId": "ab830d4f-175a-45aa-b914-871bcf4b171f"
      },
      "source": [
        "df = df.drop_duplicates()\n",
        "df.shape"
      ],
      "execution_count": null,
      "outputs": [
        {
          "output_type": "execute_result",
          "data": {
            "text/plain": [
              "(10462, 16)"
            ]
          },
          "metadata": {
            "tags": []
          },
          "execution_count": 33
        }
      ]
    },
    {
      "cell_type": "markdown",
      "metadata": {
        "papermill": {
          "duration": 0.030439,
          "end_time": "2020-08-26T05:59:35.390423",
          "exception": false,
          "start_time": "2020-08-26T05:59:35.359984",
          "status": "completed"
        },
        "tags": [],
        "id": "QFLxYzb8hIN8"
      },
      "source": [
        "It looks like there were around 220 duplicate rows. So it is good idea to drop them."
      ]
    },
    {
      "cell_type": "markdown",
      "metadata": {
        "papermill": {
          "duration": 0.030412,
          "end_time": "2020-08-26T05:59:35.451990",
          "exception": false,
          "start_time": "2020-08-26T05:59:35.421578",
          "status": "completed"
        },
        "tags": [],
        "id": "kN5bLKqZhIN8"
      },
      "source": [
        "#### Handling the Typos"
      ]
    },
    {
      "cell_type": "code",
      "metadata": {
        "execution": {
          "iopub.execute_input": "2020-08-26T05:59:35.520474Z",
          "iopub.status.busy": "2020-08-26T05:59:35.519504Z",
          "iopub.status.idle": "2020-08-26T05:59:35.524937Z",
          "shell.execute_reply": "2020-08-26T05:59:35.524302Z"
        },
        "papermill": {
          "duration": 0.042498,
          "end_time": "2020-08-26T05:59:35.525070",
          "exception": false,
          "start_time": "2020-08-26T05:59:35.482572",
          "status": "completed"
        },
        "tags": [],
        "id": "-5TN1-FJhIN9",
        "outputId": "7fa304d5-91b5-405a-dffe-b870bed28ade"
      },
      "source": [
        "df['Additional_Info'].unique()"
      ],
      "execution_count": null,
      "outputs": [
        {
          "output_type": "execute_result",
          "data": {
            "text/plain": [
              "array(['No info', '1 Long layover', 'Business class', 'Red-eye flight',\n",
              "       'Change airports', '2 Long layover', 'No Info', '1 Short layover',\n",
              "       'In-flight meal not included', 'No check-in baggage included'],\n",
              "      dtype=object)"
            ]
          },
          "metadata": {
            "tags": []
          },
          "execution_count": 34
        }
      ]
    },
    {
      "cell_type": "markdown",
      "metadata": {
        "papermill": {
          "duration": 0.030226,
          "end_time": "2020-08-26T05:59:35.586289",
          "exception": false,
          "start_time": "2020-08-26T05:59:35.556063",
          "status": "completed"
        },
        "tags": [],
        "id": "xhWFHcIihIN9"
      },
      "source": [
        "'No info' is same as 'No Info'. So replacing them with single common label."
      ]
    },
    {
      "cell_type": "code",
      "metadata": {
        "execution": {
          "iopub.execute_input": "2020-08-26T05:59:35.655777Z",
          "iopub.status.busy": "2020-08-26T05:59:35.654650Z",
          "iopub.status.idle": "2020-08-26T05:59:35.658856Z",
          "shell.execute_reply": "2020-08-26T05:59:35.658194Z"
        },
        "papermill": {
          "duration": 0.042017,
          "end_time": "2020-08-26T05:59:35.658992",
          "exception": false,
          "start_time": "2020-08-26T05:59:35.616975",
          "status": "completed"
        },
        "tags": [],
        "id": "YCKh_N5MhIN9"
      },
      "source": [
        "df['Additional_Info'].replace('No Info', 'No info', inplace = True)"
      ],
      "execution_count": null,
      "outputs": []
    },
    {
      "cell_type": "code",
      "metadata": {
        "execution": {
          "iopub.execute_input": "2020-08-26T05:59:35.733906Z",
          "iopub.status.busy": "2020-08-26T05:59:35.733161Z",
          "iopub.status.idle": "2020-08-26T05:59:35.865121Z",
          "shell.execute_reply": "2020-08-26T05:59:35.865645Z"
        },
        "papermill": {
          "duration": 0.174902,
          "end_time": "2020-08-26T05:59:35.865817",
          "exception": false,
          "start_time": "2020-08-26T05:59:35.690915",
          "status": "completed"
        },
        "tags": [],
        "id": "AJhEriJxhIN9",
        "outputId": "93b840f7-fada-4d05-cf67-c61dcd95f70b"
      },
      "source": [
        "sns.boxplot(df['Price'])"
      ],
      "execution_count": null,
      "outputs": [
        {
          "output_type": "stream",
          "text": [
            "C:\\Anaconda\\envs\\tensorflow\\lib\\site-packages\\seaborn\\_decorators.py:36: FutureWarning: Pass the following variable as a keyword arg: x. From version 0.12, the only valid positional argument will be `data`, and passing other arguments without an explicit keyword will result in an error or misinterpretation.\n",
            "  warnings.warn(\n"
          ],
          "name": "stderr"
        },
        {
          "output_type": "execute_result",
          "data": {
            "text/plain": [
              "<AxesSubplot:xlabel='Price'>"
            ]
          },
          "metadata": {
            "tags": []
          },
          "execution_count": 36
        },
        {
          "output_type": "display_data",
          "data": {
            "image/png": "[encoded data removed]",
            "text/plain": [
              "<Figure size 432x288 with 1 Axes>"
            ]
          },
          "metadata": {
            "tags": [],
            "needs_background": "light"
          }
        }
      ]
    },
    {
      "cell_type": "markdown",
      "metadata": {
        "papermill": {
          "duration": 0.0307,
          "end_time": "2020-08-26T05:59:35.927359",
          "exception": false,
          "start_time": "2020-08-26T05:59:35.896659",
          "status": "completed"
        },
        "tags": [],
        "id": "I_PeabCRhIN-"
      },
      "source": [
        "As we can see that there are some points which are seeems like outliers but we cannot remove them because these can be flight ticket price also."
      ]
    },
    {
      "cell_type": "markdown",
      "metadata": {
        "papermill": {
          "duration": 0.030668,
          "end_time": "2020-08-26T05:59:35.988828",
          "exception": false,
          "start_time": "2020-08-26T05:59:35.958160",
          "status": "completed"
        },
        "tags": [],
        "id": "ifTKqf3ahIN-"
      },
      "source": [
        "#### Before we move to the next module, let's save the new dataframe that we have cleaned."
      ]
    },
    {
      "cell_type": "code",
      "metadata": {
        "execution": {
          "iopub.execute_input": "2020-08-26T05:59:36.056193Z",
          "iopub.status.busy": "2020-08-26T05:59:36.055502Z",
          "iopub.status.idle": "2020-08-26T05:59:36.159274Z",
          "shell.execute_reply": "2020-08-26T05:59:36.158461Z"
        },
        "papermill": {
          "duration": 0.139483,
          "end_time": "2020-08-26T05:59:36.159405",
          "exception": false,
          "start_time": "2020-08-26T05:59:36.019922",
          "status": "completed"
        },
        "tags": [],
        "id": "PwGEou1thIN-"
      },
      "source": [
        "df.to_csv('cleaned_data.csv', index = None)"
      ],
      "execution_count": null,
      "outputs": []
    },
    {
      "cell_type": "markdown",
      "metadata": {
        "papermill": {
          "duration": 0.031106,
          "end_time": "2020-08-26T05:59:36.222284",
          "exception": false,
          "start_time": "2020-08-26T05:59:36.191178",
          "status": "completed"
        },
        "tags": [],
        "id": "nYHWeANthIN-"
      },
      "source": [
        "#### Encoding the dummy varibales (for categorical features)."
      ]
    },
    {
      "cell_type": "code",
      "metadata": {
        "execution": {
          "iopub.execute_input": "2020-08-26T05:59:36.294884Z",
          "iopub.status.busy": "2020-08-26T05:59:36.292747Z",
          "iopub.status.idle": "2020-08-26T05:59:36.311177Z",
          "shell.execute_reply": "2020-08-26T05:59:36.310521Z"
        },
        "papermill": {
          "duration": 0.05729,
          "end_time": "2020-08-26T05:59:36.311310",
          "exception": false,
          "start_time": "2020-08-26T05:59:36.254020",
          "status": "completed"
        },
        "tags": [],
        "id": "xkqPv7nChIN-"
      },
      "source": [
        "df = pd.get_dummies(df, columns = ['Airline', 'Source', 'Destination', 'Additional_Info', 'flight_time'])"
      ],
      "execution_count": null,
      "outputs": []
    },
    {
      "cell_type": "code",
      "metadata": {
        "execution": {
          "iopub.execute_input": "2020-08-26T05:59:36.392126Z",
          "iopub.status.busy": "2020-08-26T05:59:36.380789Z",
          "iopub.status.idle": "2020-08-26T05:59:36.415578Z",
          "shell.execute_reply": "2020-08-26T05:59:36.414883Z"
        },
        "papermill": {
          "duration": 0.072947,
          "end_time": "2020-08-26T05:59:36.415696",
          "exception": false,
          "start_time": "2020-08-26T05:59:36.342749",
          "status": "completed"
        },
        "tags": [],
        "id": "zgROXyRhhIN_",
        "outputId": "b457270a-1df3-447a-f481-d52b12b9f599"
      },
      "source": [
        "pd.set_option('display.max_columns', 50)\n",
        "df.head()"
      ],
      "execution_count": null,
      "outputs": [
        {
          "output_type": "execute_result",
          "data": {
            "text/html": [
              "<div>\n",
              "<style scoped>\n",
              "    .dataframe tbody tr th:only-of-type {\n",
              "        vertical-align: middle;\n",
              "    }\n",
              "\n",
              "    .dataframe tbody tr th {\n",
              "        vertical-align: top;\n",
              "    }\n",
              "\n",
              "    .dataframe thead th {\n",
              "        text-align: right;\n",
              "    }\n",
              "</style>\n",
              "<table border=\"1\" class=\"dataframe\">\n",
              "  <thead>\n",
              "    <tr style=\"text-align: right;\">\n",
              "      <th></th>\n",
              "      <th>Date_of_Journey</th>\n",
              "      <th>Route</th>\n",
              "      <th>Dep_Time</th>\n",
              "      <th>Arrival_Time</th>\n",
              "      <th>Duration</th>\n",
              "      <th>Total_Stops</th>\n",
              "      <th>Price</th>\n",
              "      <th>year</th>\n",
              "      <th>month</th>\n",
              "      <th>Day</th>\n",
              "      <th>Duration(sec)</th>\n",
              "      <th>Airline_Air Asia</th>\n",
              "      <th>Airline_Air India</th>\n",
              "      <th>Airline_Another</th>\n",
              "      <th>Airline_GoAir</th>\n",
              "      <th>Airline_IndiGo</th>\n",
              "      <th>Airline_Jet Airways</th>\n",
              "      <th>Airline_Jet Airways Business</th>\n",
              "      <th>Airline_Multiple carriers</th>\n",
              "      <th>Airline_Multiple carriers Premium economy</th>\n",
              "      <th>Airline_SpiceJet</th>\n",
              "      <th>Airline_Vistara</th>\n",
              "      <th>Source_Banglore</th>\n",
              "      <th>Source_Chennai</th>\n",
              "      <th>Source_Delhi</th>\n",
              "      <th>Source_Kolkata</th>\n",
              "      <th>Source_Mumbai</th>\n",
              "      <th>Destination_Banglore</th>\n",
              "      <th>Destination_Cochin</th>\n",
              "      <th>Destination_Delhi</th>\n",
              "      <th>Destination_Hyderabad</th>\n",
              "      <th>Destination_Kolkata</th>\n",
              "      <th>Destination_New Delhi</th>\n",
              "      <th>Additional_Info_1 Long layover</th>\n",
              "      <th>Additional_Info_1 Short layover</th>\n",
              "      <th>Additional_Info_2 Long layover</th>\n",
              "      <th>Additional_Info_Business class</th>\n",
              "      <th>Additional_Info_Change airports</th>\n",
              "      <th>Additional_Info_In-flight meal not included</th>\n",
              "      <th>Additional_Info_No check-in baggage included</th>\n",
              "      <th>Additional_Info_No info</th>\n",
              "      <th>Additional_Info_Red-eye flight</th>\n",
              "      <th>flight_time_afternoon</th>\n",
              "      <th>flight_time_evening</th>\n",
              "      <th>flight_time_mid_night</th>\n",
              "      <th>flight_time_morning</th>\n",
              "    </tr>\n",
              "  </thead>\n",
              "  <tbody>\n",
              "    <tr>\n",
              "      <th>9848</th>\n",
              "      <td>01/03/2019</td>\n",
              "      <td>BLR → BOM → AMD → DEL</td>\n",
              "      <td>08:50</td>\n",
              "      <td>23:55 02 Mar</td>\n",
              "      <td>39h 5m</td>\n",
              "      <td>2</td>\n",
              "      <td>17135</td>\n",
              "      <td>2019</td>\n",
              "      <td>1</td>\n",
              "      <td>3</td>\n",
              "      <td>140700</td>\n",
              "      <td>0</td>\n",
              "      <td>1</td>\n",
              "      <td>0</td>\n",
              "      <td>0</td>\n",
              "      <td>0</td>\n",
              "      <td>0</td>\n",
              "      <td>0</td>\n",
              "      <td>0</td>\n",
              "      <td>0</td>\n",
              "      <td>0</td>\n",
              "      <td>0</td>\n",
              "      <td>1</td>\n",
              "      <td>0</td>\n",
              "      <td>0</td>\n",
              "      <td>0</td>\n",
              "      <td>0</td>\n",
              "      <td>0</td>\n",
              "      <td>0</td>\n",
              "      <td>0</td>\n",
              "      <td>0</td>\n",
              "      <td>0</td>\n",
              "      <td>1</td>\n",
              "      <td>0</td>\n",
              "      <td>0</td>\n",
              "      <td>0</td>\n",
              "      <td>0</td>\n",
              "      <td>0</td>\n",
              "      <td>0</td>\n",
              "      <td>0</td>\n",
              "      <td>1</td>\n",
              "      <td>0</td>\n",
              "      <td>0</td>\n",
              "      <td>0</td>\n",
              "      <td>0</td>\n",
              "      <td>1</td>\n",
              "    </tr>\n",
              "    <tr>\n",
              "      <th>6024</th>\n",
              "      <td>01/03/2019</td>\n",
              "      <td>BLR → MAA → DEL</td>\n",
              "      <td>11:50</td>\n",
              "      <td>08:55 02 Mar</td>\n",
              "      <td>21h 5m</td>\n",
              "      <td>1</td>\n",
              "      <td>14594</td>\n",
              "      <td>2019</td>\n",
              "      <td>1</td>\n",
              "      <td>3</td>\n",
              "      <td>75900</td>\n",
              "      <td>0</td>\n",
              "      <td>1</td>\n",
              "      <td>0</td>\n",
              "      <td>0</td>\n",
              "      <td>0</td>\n",
              "      <td>0</td>\n",
              "      <td>0</td>\n",
              "      <td>0</td>\n",
              "      <td>0</td>\n",
              "      <td>0</td>\n",
              "      <td>0</td>\n",
              "      <td>1</td>\n",
              "      <td>0</td>\n",
              "      <td>0</td>\n",
              "      <td>0</td>\n",
              "      <td>0</td>\n",
              "      <td>0</td>\n",
              "      <td>0</td>\n",
              "      <td>0</td>\n",
              "      <td>0</td>\n",
              "      <td>0</td>\n",
              "      <td>1</td>\n",
              "      <td>1</td>\n",
              "      <td>0</td>\n",
              "      <td>0</td>\n",
              "      <td>0</td>\n",
              "      <td>0</td>\n",
              "      <td>0</td>\n",
              "      <td>0</td>\n",
              "      <td>0</td>\n",
              "      <td>0</td>\n",
              "      <td>0</td>\n",
              "      <td>0</td>\n",
              "      <td>0</td>\n",
              "      <td>1</td>\n",
              "    </tr>\n",
              "    <tr>\n",
              "      <th>2405</th>\n",
              "      <td>01/03/2019</td>\n",
              "      <td>BLR → BOM → DEL</td>\n",
              "      <td>14:05</td>\n",
              "      <td>07:40 02 Mar</td>\n",
              "      <td>17h 35m</td>\n",
              "      <td>1</td>\n",
              "      <td>22270</td>\n",
              "      <td>2019</td>\n",
              "      <td>1</td>\n",
              "      <td>3</td>\n",
              "      <td>63300</td>\n",
              "      <td>0</td>\n",
              "      <td>0</td>\n",
              "      <td>0</td>\n",
              "      <td>0</td>\n",
              "      <td>0</td>\n",
              "      <td>1</td>\n",
              "      <td>0</td>\n",
              "      <td>0</td>\n",
              "      <td>0</td>\n",
              "      <td>0</td>\n",
              "      <td>0</td>\n",
              "      <td>1</td>\n",
              "      <td>0</td>\n",
              "      <td>0</td>\n",
              "      <td>0</td>\n",
              "      <td>0</td>\n",
              "      <td>0</td>\n",
              "      <td>0</td>\n",
              "      <td>0</td>\n",
              "      <td>0</td>\n",
              "      <td>0</td>\n",
              "      <td>1</td>\n",
              "      <td>1</td>\n",
              "      <td>0</td>\n",
              "      <td>0</td>\n",
              "      <td>0</td>\n",
              "      <td>0</td>\n",
              "      <td>0</td>\n",
              "      <td>0</td>\n",
              "      <td>0</td>\n",
              "      <td>0</td>\n",
              "      <td>1</td>\n",
              "      <td>0</td>\n",
              "      <td>0</td>\n",
              "      <td>0</td>\n",
              "    </tr>\n",
              "    <tr>\n",
              "      <th>10383</th>\n",
              "      <td>01/03/2019</td>\n",
              "      <td>BLR → BOM → DEL</td>\n",
              "      <td>07:00</td>\n",
              "      <td>05:05 02 Mar</td>\n",
              "      <td>22h 5m</td>\n",
              "      <td>1</td>\n",
              "      <td>26890</td>\n",
              "      <td>2019</td>\n",
              "      <td>1</td>\n",
              "      <td>3</td>\n",
              "      <td>79500</td>\n",
              "      <td>0</td>\n",
              "      <td>0</td>\n",
              "      <td>0</td>\n",
              "      <td>0</td>\n",
              "      <td>0</td>\n",
              "      <td>1</td>\n",
              "      <td>0</td>\n",
              "      <td>0</td>\n",
              "      <td>0</td>\n",
              "      <td>0</td>\n",
              "      <td>0</td>\n",
              "      <td>1</td>\n",
              "      <td>0</td>\n",
              "      <td>0</td>\n",
              "      <td>0</td>\n",
              "      <td>0</td>\n",
              "      <td>0</td>\n",
              "      <td>0</td>\n",
              "      <td>0</td>\n",
              "      <td>0</td>\n",
              "      <td>0</td>\n",
              "      <td>1</td>\n",
              "      <td>0</td>\n",
              "      <td>0</td>\n",
              "      <td>0</td>\n",
              "      <td>0</td>\n",
              "      <td>0</td>\n",
              "      <td>0</td>\n",
              "      <td>0</td>\n",
              "      <td>1</td>\n",
              "      <td>0</td>\n",
              "      <td>0</td>\n",
              "      <td>0</td>\n",
              "      <td>0</td>\n",
              "      <td>1</td>\n",
              "    </tr>\n",
              "    <tr>\n",
              "      <th>8308</th>\n",
              "      <td>01/03/2019</td>\n",
              "      <td>BLR → DEL</td>\n",
              "      <td>18:25</td>\n",
              "      <td>21:20</td>\n",
              "      <td>2h 55m</td>\n",
              "      <td>0</td>\n",
              "      <td>12649</td>\n",
              "      <td>2019</td>\n",
              "      <td>1</td>\n",
              "      <td>3</td>\n",
              "      <td>10500</td>\n",
              "      <td>0</td>\n",
              "      <td>0</td>\n",
              "      <td>0</td>\n",
              "      <td>0</td>\n",
              "      <td>1</td>\n",
              "      <td>0</td>\n",
              "      <td>0</td>\n",
              "      <td>0</td>\n",
              "      <td>0</td>\n",
              "      <td>0</td>\n",
              "      <td>0</td>\n",
              "      <td>1</td>\n",
              "      <td>0</td>\n",
              "      <td>0</td>\n",
              "      <td>0</td>\n",
              "      <td>0</td>\n",
              "      <td>0</td>\n",
              "      <td>0</td>\n",
              "      <td>0</td>\n",
              "      <td>0</td>\n",
              "      <td>0</td>\n",
              "      <td>1</td>\n",
              "      <td>0</td>\n",
              "      <td>0</td>\n",
              "      <td>0</td>\n",
              "      <td>0</td>\n",
              "      <td>0</td>\n",
              "      <td>0</td>\n",
              "      <td>0</td>\n",
              "      <td>1</td>\n",
              "      <td>0</td>\n",
              "      <td>0</td>\n",
              "      <td>1</td>\n",
              "      <td>0</td>\n",
              "      <td>0</td>\n",
              "    </tr>\n",
              "  </tbody>\n",
              "</table>\n",
              "</div>"
            ],
            "text/plain": [
              "      Date_of_Journey                  Route Dep_Time  Arrival_Time Duration  \\\n",
              "9848       01/03/2019  BLR → BOM → AMD → DEL    08:50  23:55 02 Mar   39h 5m   \n",
              "6024       01/03/2019        BLR → MAA → DEL    11:50  08:55 02 Mar   21h 5m   \n",
              "2405       01/03/2019        BLR → BOM → DEL    14:05  07:40 02 Mar  17h 35m   \n",
              "10383      01/03/2019        BLR → BOM → DEL    07:00  05:05 02 Mar   22h 5m   \n",
              "8308       01/03/2019              BLR → DEL    18:25         21:20   2h 55m   \n",
              "\n",
              "       Total_Stops  Price  year  month  Day  Duration(sec)  Airline_Air Asia  \\\n",
              "9848             2  17135  2019      1    3         140700                 0   \n",
              "6024             1  14594  2019      1    3          75900                 0   \n",
              "2405             1  22270  2019      1    3          63300                 0   \n",
              "10383            1  26890  2019      1    3          79500                 0   \n",
              "8308             0  12649  2019      1    3          10500                 0   \n",
              "\n",
              "       Airline_Air India  Airline_Another  Airline_GoAir  Airline_IndiGo  \\\n",
              "9848                   1                0              0               0   \n",
              "6024                   1                0              0               0   \n",
              "2405                   0                0              0               0   \n",
              "10383                  0                0              0               0   \n",
              "8308                   0                0              0               1   \n",
              "\n",
              "       Airline_Jet Airways  Airline_Jet Airways Business  \\\n",
              "9848                     0                             0   \n",
              "6024                     0                             0   \n",
              "2405                     1                             0   \n",
              "10383                    1                             0   \n",
              "8308                     0                             0   \n",
              "\n",
              "       Airline_Multiple carriers  Airline_Multiple carriers Premium economy  \\\n",
              "9848                           0                                          0   \n",
              "6024                           0                                          0   \n",
              "2405                           0                                          0   \n",
              "10383                          0                                          0   \n",
              "8308                           0                                          0   \n",
              "\n",
              "       Airline_SpiceJet  Airline_Vistara  Source_Banglore  Source_Chennai  \\\n",
              "9848                  0                0                1               0   \n",
              "6024                  0                0                1               0   \n",
              "2405                  0                0                1               0   \n",
              "10383                 0                0                1               0   \n",
              "8308                  0                0                1               0   \n",
              "\n",
              "       Source_Delhi  Source_Kolkata  Source_Mumbai  Destination_Banglore  \\\n",
              "9848              0               0              0                     0   \n",
              "6024              0               0              0                     0   \n",
              "2405              0               0              0                     0   \n",
              "10383             0               0              0                     0   \n",
              "8308              0               0              0                     0   \n",
              "\n",
              "       Destination_Cochin  Destination_Delhi  Destination_Hyderabad  \\\n",
              "9848                    0                  0                      0   \n",
              "6024                    0                  0                      0   \n",
              "2405                    0                  0                      0   \n",
              "10383                   0                  0                      0   \n",
              "8308                    0                  0                      0   \n",
              "\n",
              "       Destination_Kolkata  Destination_New Delhi  \\\n",
              "9848                     0                      1   \n",
              "6024                     0                      1   \n",
              "2405                     0                      1   \n",
              "10383                    0                      1   \n",
              "8308                     0                      1   \n",
              "\n",
              "       Additional_Info_1 Long layover  Additional_Info_1 Short layover  \\\n",
              "9848                                0                                0   \n",
              "6024                                1                                0   \n",
              "2405                                1                                0   \n",
              "10383                               0                                0   \n",
              "8308                                0                                0   \n",
              "\n",
              "       Additional_Info_2 Long layover  Additional_Info_Business class  \\\n",
              "9848                                0                               0   \n",
              "6024                                0                               0   \n",
              "2405                                0                               0   \n",
              "10383                               0                               0   \n",
              "8308                                0                               0   \n",
              "\n",
              "       Additional_Info_Change airports  \\\n",
              "9848                                 0   \n",
              "6024                                 0   \n",
              "2405                                 0   \n",
              "10383                                0   \n",
              "8308                                 0   \n",
              "\n",
              "       Additional_Info_In-flight meal not included  \\\n",
              "9848                                             0   \n",
              "6024                                             0   \n",
              "2405                                             0   \n",
              "10383                                            0   \n",
              "8308                                             0   \n",
              "\n",
              "       Additional_Info_No check-in baggage included  Additional_Info_No info  \\\n",
              "9848                                              0                        1   \n",
              "6024                                              0                        0   \n",
              "2405                                              0                        0   \n",
              "10383                                             0                        1   \n",
              "8308                                              0                        1   \n",
              "\n",
              "       Additional_Info_Red-eye flight  flight_time_afternoon  \\\n",
              "9848                                0                      0   \n",
              "6024                                0                      0   \n",
              "2405                                0                      1   \n",
              "10383                               0                      0   \n",
              "8308                                0                      0   \n",
              "\n",
              "       flight_time_evening  flight_time_mid_night  flight_time_morning  \n",
              "9848                     0                      0                    1  \n",
              "6024                     0                      0                    1  \n",
              "2405                     0                      0                    0  \n",
              "10383                    0                      0                    1  \n",
              "8308                     1                      0                    0  "
            ]
          },
          "metadata": {
            "tags": []
          },
          "execution_count": 39
        }
      ]
    },
    {
      "cell_type": "markdown",
      "metadata": {
        "papermill": {
          "duration": 0.031725,
          "end_time": "2020-08-26T05:59:36.479798",
          "exception": false,
          "start_time": "2020-08-26T05:59:36.448073",
          "status": "completed"
        },
        "tags": [],
        "id": "T25mqKOzhIN_"
      },
      "source": [
        "#### Removing the unused features."
      ]
    },
    {
      "cell_type": "code",
      "metadata": {
        "execution": {
          "iopub.execute_input": "2020-08-26T05:59:36.550314Z",
          "iopub.status.busy": "2020-08-26T05:59:36.549440Z",
          "iopub.status.idle": "2020-08-26T05:59:36.554206Z",
          "shell.execute_reply": "2020-08-26T05:59:36.553459Z"
        },
        "papermill": {
          "duration": 0.042746,
          "end_time": "2020-08-26T05:59:36.554328",
          "exception": false,
          "start_time": "2020-08-26T05:59:36.511582",
          "status": "completed"
        },
        "tags": [],
        "id": "QqWLE1WZhIN_"
      },
      "source": [
        "df.drop(['Date_of_Journey', 'Route', 'Dep_Time', 'Arrival_Time', 'Duration'], axis = 1, inplace = True)"
      ],
      "execution_count": null,
      "outputs": []
    },
    {
      "cell_type": "markdown",
      "metadata": {
        "papermill": {
          "duration": 0.031981,
          "end_time": "2020-08-26T05:59:36.618556",
          "exception": false,
          "start_time": "2020-08-26T05:59:36.586575",
          "status": "completed"
        },
        "tags": [],
        "id": "XbhHm4z4hIN_"
      },
      "source": [
        "#### Saving the final dataframe to directory."
      ]
    },
    {
      "cell_type": "code",
      "metadata": {
        "execution": {
          "iopub.execute_input": "2020-08-26T05:59:36.689184Z",
          "iopub.status.busy": "2020-08-26T05:59:36.688410Z",
          "iopub.status.idle": "2020-08-26T05:59:36.813432Z",
          "shell.execute_reply": "2020-08-26T05:59:36.812595Z"
        },
        "papermill": {
          "duration": 0.162487,
          "end_time": "2020-08-26T05:59:36.813562",
          "exception": false,
          "start_time": "2020-08-26T05:59:36.651075",
          "status": "completed"
        },
        "tags": [],
        "id": "gIS2xDyvhIN_"
      },
      "source": [
        "df.to_csv('final_data.csv', index = None)"
      ],
      "execution_count": null,
      "outputs": []
    },
    {
      "cell_type": "markdown",
      "metadata": {
        "papermill": {
          "duration": 0.031868,
          "end_time": "2020-08-26T05:59:36.878176",
          "exception": false,
          "start_time": "2020-08-26T05:59:36.846308",
          "status": "completed"
        },
        "tags": [],
        "id": "5m-MQOklhIN_"
      },
      "source": [
        "#### Preparing the data for ML models."
      ]
    },
    {
      "cell_type": "code",
      "metadata": {
        "execution": {
          "iopub.execute_input": "2020-08-26T05:59:36.949845Z",
          "iopub.status.busy": "2020-08-26T05:59:36.948924Z",
          "iopub.status.idle": "2020-08-26T05:59:36.952970Z",
          "shell.execute_reply": "2020-08-26T05:59:36.952207Z"
        },
        "papermill": {
          "duration": 0.042783,
          "end_time": "2020-08-26T05:59:36.953102",
          "exception": false,
          "start_time": "2020-08-26T05:59:36.910319",
          "status": "completed"
        },
        "tags": [],
        "id": "dogdg0FohIOA"
      },
      "source": [
        "y = df['Price']\n",
        "X = df.drop('Price', axis = 1)"
      ],
      "execution_count": null,
      "outputs": []
    },
    {
      "cell_type": "markdown",
      "metadata": {
        "papermill": {
          "duration": 0.032563,
          "end_time": "2020-08-26T05:59:37.017844",
          "exception": false,
          "start_time": "2020-08-26T05:59:36.985281",
          "status": "completed"
        },
        "tags": [],
        "id": "J9WBm-UnhIOA"
      },
      "source": [
        "#### Data Standardization"
      ]
    },
    {
      "cell_type": "code",
      "metadata": {
        "execution": {
          "iopub.execute_input": "2020-08-26T05:59:37.090437Z",
          "iopub.status.busy": "2020-08-26T05:59:37.089638Z",
          "iopub.status.idle": "2020-08-26T05:59:37.112581Z",
          "shell.execute_reply": "2020-08-26T05:59:37.111940Z"
        },
        "papermill": {
          "duration": 0.062507,
          "end_time": "2020-08-26T05:59:37.112706",
          "exception": false,
          "start_time": "2020-08-26T05:59:37.050199",
          "status": "completed"
        },
        "tags": [],
        "id": "POfwrx7yhIOA"
      },
      "source": [
        "s = StandardScaler()\n",
        "X = s.fit_transform(X)"
      ],
      "execution_count": null,
      "outputs": []
    },
    {
      "cell_type": "code",
      "metadata": {
        "execution": {
          "iopub.execute_input": "2020-08-26T05:59:37.183254Z",
          "iopub.status.busy": "2020-08-26T05:59:37.182438Z",
          "iopub.status.idle": "2020-08-26T05:59:37.190617Z",
          "shell.execute_reply": "2020-08-26T05:59:37.189958Z"
        },
        "papermill": {
          "duration": 0.045396,
          "end_time": "2020-08-26T05:59:37.190761",
          "exception": false,
          "start_time": "2020-08-26T05:59:37.145365",
          "status": "completed"
        },
        "tags": [],
        "id": "gzu2DV61hIOA",
        "outputId": "f88cfd50-246b-4976-b342-bed84987347b"
      },
      "source": [
        "print(X.mean())\n",
        "X.std()"
      ],
      "execution_count": null,
      "outputs": [
        {
          "output_type": "stream",
          "text": [
            "1.3668201641342015e-18\n"
          ],
          "name": "stdout"
        },
        {
          "output_type": "execute_result",
          "data": {
            "text/plain": [
              "0.9874208829065749"
            ]
          },
          "metadata": {
            "tags": []
          },
          "execution_count": 44
        }
      ]
    },
    {
      "cell_type": "code",
      "metadata": {
        "execution": {
          "iopub.execute_input": "2020-08-26T05:59:37.308537Z",
          "iopub.status.busy": "2020-08-26T05:59:37.307743Z",
          "iopub.status.idle": "2020-08-26T05:59:37.314143Z",
          "shell.execute_reply": "2020-08-26T05:59:37.313394Z"
        },
        "papermill": {
          "duration": 0.089922,
          "end_time": "2020-08-26T05:59:37.314276",
          "exception": false,
          "start_time": "2020-08-26T05:59:37.224354",
          "status": "completed"
        },
        "tags": [],
        "id": "0e3OHbIMhIOA"
      },
      "source": [
        "# Splitting data into train and test data\n",
        "X_train, X_test, y_train, y_test = train_test_split(X, y, test_size = 0.2)"
      ],
      "execution_count": null,
      "outputs": []
    },
    {
      "cell_type": "code",
      "metadata": {
        "execution": {
          "iopub.execute_input": "2020-08-26T05:59:37.387518Z",
          "iopub.status.busy": "2020-08-26T05:59:37.386768Z",
          "iopub.status.idle": "2020-08-26T05:59:37.390195Z",
          "shell.execute_reply": "2020-08-26T05:59:37.390853Z"
        },
        "papermill": {
          "duration": 0.043607,
          "end_time": "2020-08-26T05:59:37.391014",
          "exception": false,
          "start_time": "2020-08-26T05:59:37.347407",
          "status": "completed"
        },
        "tags": [],
        "id": "72_ioH7mhIOB",
        "outputId": "33d31489-b613-4eea-c7d8-a80846f5e11a"
      },
      "source": [
        "print(\"The size of training input is\", X_train.shape)\n",
        "print(\"The size of training output is\", y_train.shape)\n",
        "print(50 *'*')\n",
        "print(\"The size of testing input is\", X_test.shape)\n",
        "print(\"The size of testing output is\", y_test.shape)"
      ],
      "execution_count": null,
      "outputs": [
        {
          "output_type": "stream",
          "text": [
            "The size of training input is (8369, 40)\n",
            "The size of training output is (8369,)\n",
            "**************************************************\n",
            "The size of testing input is (2093, 40)\n",
            "The size of testing output is (2093,)\n"
          ],
          "name": "stdout"
        }
      ]
    },
    {
      "cell_type": "markdown",
      "metadata": {
        "papermill": {
          "duration": 0.032591,
          "end_time": "2020-08-26T05:59:37.456628",
          "exception": false,
          "start_time": "2020-08-26T05:59:37.424037",
          "status": "completed"
        },
        "tags": [],
        "id": "tJbHAR-hhIOB"
      },
      "source": [
        "#### Machine Learning Models"
      ]
    },
    {
      "cell_type": "markdown",
      "metadata": {
        "papermill": {
          "duration": 0.032864,
          "end_time": "2020-08-26T05:59:37.822110",
          "exception": false,
          "start_time": "2020-08-26T05:59:37.789246",
          "status": "completed"
        },
        "tags": [],
        "id": "4s83heBThIOC"
      },
      "source": [
        "#### KNN Regressor"
      ]
    },
    {
      "cell_type": "code",
      "metadata": {
        "execution": {
          "iopub.execute_input": "2020-08-26T05:59:37.896298Z",
          "iopub.status.busy": "2020-08-26T05:59:37.895539Z",
          "iopub.status.idle": "2020-08-26T06:01:59.599677Z",
          "shell.execute_reply": "2020-08-26T06:01:59.600320Z"
        },
        "papermill": {
          "duration": 141.745547,
          "end_time": "2020-08-26T06:01:59.600671",
          "exception": false,
          "start_time": "2020-08-26T05:59:37.855124",
          "status": "completed"
        },
        "tags": [],
        "id": "BIlIRgjZhIOD",
        "outputId": "928f8e71-91a1-46ce-ea04-2453feb34e46"
      },
      "source": [
        "k_range = list(range(1, 30))\n",
        "params = dict(n_neighbors = k_range)\n",
        "knn_regressor = GridSearchCV(KNeighborsRegressor(), params, cv = 10, scoring = 'neg_mean_squared_error')\n",
        "knn_regressor.fit(X_train, y_train)"
      ],
      "execution_count": null,
      "outputs": [
        {
          "output_type": "execute_result",
          "data": {
            "text/plain": [
              "GridSearchCV(cv=10, estimator=KNeighborsRegressor(),\n",
              "             param_grid={'n_neighbors': [1, 2, 3, 4, 5, 6, 7, 8, 9, 10, 11, 12,\n",
              "                                         13, 14, 15, 16, 17, 18, 19, 20, 21, 22,\n",
              "                                         23, 24, 25, 26, 27, 28, 29]},\n",
              "             scoring='neg_mean_squared_error')"
            ]
          },
          "metadata": {
            "tags": []
          },
          "execution_count": 50
        }
      ]
    },
    {
      "cell_type": "code",
      "metadata": {
        "execution": {
          "iopub.execute_input": "2020-08-26T06:01:59.673905Z",
          "iopub.status.busy": "2020-08-26T06:01:59.672918Z",
          "iopub.status.idle": "2020-08-26T06:01:59.678084Z",
          "shell.execute_reply": "2020-08-26T06:01:59.678645Z"
        },
        "papermill": {
          "duration": 0.044848,
          "end_time": "2020-08-26T06:01:59.678809",
          "exception": false,
          "start_time": "2020-08-26T06:01:59.633961",
          "status": "completed"
        },
        "tags": [],
        "id": "tOyOWa_2hIOD",
        "outputId": "b48f6980-2576-4177-de79-0c1a1fdae5d6"
      },
      "source": [
        "print(knn_regressor.best_estimator_)\n",
        "knn_regressor.best_params_"
      ],
      "execution_count": null,
      "outputs": [
        {
          "output_type": "stream",
          "text": [
            "KNeighborsRegressor(n_neighbors=3)\n"
          ],
          "name": "stdout"
        },
        {
          "output_type": "execute_result",
          "data": {
            "text/plain": [
              "{'n_neighbors': 3}"
            ]
          },
          "metadata": {
            "tags": []
          },
          "execution_count": 51
        }
      ]
    },
    {
      "cell_type": "code",
      "metadata": {
        "execution": {
          "iopub.execute_input": "2020-08-26T06:01:59.751083Z",
          "iopub.status.busy": "2020-08-26T06:01:59.750314Z",
          "iopub.status.idle": "2020-08-26T06:02:06.197576Z",
          "shell.execute_reply": "2020-08-26T06:02:06.196820Z"
        },
        "papermill": {
          "duration": 6.485585,
          "end_time": "2020-08-26T06:02:06.197698",
          "exception": false,
          "start_time": "2020-08-26T06:01:59.712113",
          "status": "completed"
        },
        "tags": [],
        "id": "IqWhK_BmhIOE"
      },
      "source": [
        "y_train_pred =knn_regressor.predict(X_train) ##Predict train result\n",
        "y_test_pred =knn_regressor.predict(X_test) ##Predict test result"
      ],
      "execution_count": null,
      "outputs": []
    },
    {
      "cell_type": "code",
      "metadata": {
        "execution": {
          "iopub.execute_input": "2020-08-26T06:02:06.273707Z",
          "iopub.status.busy": "2020-08-26T06:02:06.272525Z",
          "iopub.status.idle": "2020-08-26T06:02:06.279542Z",
          "shell.execute_reply": "2020-08-26T06:02:06.278776Z"
        },
        "papermill": {
          "duration": 0.048063,
          "end_time": "2020-08-26T06:02:06.279703",
          "exception": false,
          "start_time": "2020-08-26T06:02:06.231640",
          "status": "completed"
        },
        "tags": [],
        "id": "uh2B2WSEhIOE",
        "outputId": "f7141b65-d5af-4f6f-8335-36be4d572540"
      },
      "source": [
        "print(\"Train Results for KNN Regressor Model:\")\n",
        "print(50 * '-')\n",
        "print(\"Root mean squared error: \", sqrt(mse(y_train.values, y_train_pred)))\n",
        "print(\"R-squared: \", r2_score(y_train.values, y_train_pred))"
      ],
      "execution_count": null,
      "outputs": [
        {
          "output_type": "stream",
          "text": [
            "Train Results for KNN Regressor Model:\n",
            "--------------------------------------------------\n",
            "Root mean squared error:  1519.2012371590786\n",
            "R-squared:  0.8941635122423404\n"
          ],
          "name": "stdout"
        }
      ]
    },
    {
      "cell_type": "code",
      "metadata": {
        "execution": {
          "iopub.execute_input": "2020-08-26T06:02:06.355239Z",
          "iopub.status.busy": "2020-08-26T06:02:06.353733Z",
          "iopub.status.idle": "2020-08-26T06:02:06.360657Z",
          "shell.execute_reply": "2020-08-26T06:02:06.359900Z"
        },
        "papermill": {
          "duration": 0.046939,
          "end_time": "2020-08-26T06:02:06.360800",
          "exception": false,
          "start_time": "2020-08-26T06:02:06.313861",
          "status": "completed"
        },
        "tags": [],
        "id": "Tv1djqKXhIOE",
        "outputId": "4fd8d3e4-b0bd-4dc2-a056-b30b25952208"
      },
      "source": [
        "print(\"Test Results for KNN Regressor Model:\")\n",
        "print(50 * '-')\n",
        "print(\"Root mean squared error: \", sqrt(mse(y_test, y_test_pred)))\n",
        "print(\"R-squared: \", r2_score(y_test, y_test_pred))"
      ],
      "execution_count": null,
      "outputs": [
        {
          "output_type": "stream",
          "text": [
            "Test Results for KNN Regressor Model:\n",
            "--------------------------------------------------\n",
            "Root mean squared error:  2068.609306982841\n",
            "R-squared:  0.7827974647656806\n"
          ],
          "name": "stdout"
        }
      ]
    },
    {
      "cell_type": "markdown",
      "metadata": {
        "papermill": {
          "duration": 0.033494,
          "end_time": "2020-08-26T06:02:06.428431",
          "exception": false,
          "start_time": "2020-08-26T06:02:06.394937",
          "status": "completed"
        },
        "tags": [],
        "id": "6duAH_xShIOE"
      },
      "source": [
        "#### Ridge Regression"
      ]
    },
    {
      "cell_type": "code",
      "metadata": {
        "execution": {
          "iopub.execute_input": "2020-08-26T06:02:06.504343Z",
          "iopub.status.busy": "2020-08-26T06:02:06.503602Z",
          "iopub.status.idle": "2020-08-26T06:02:08.869315Z",
          "shell.execute_reply": "2020-08-26T06:02:08.868299Z"
        },
        "papermill": {
          "duration": 2.407232,
          "end_time": "2020-08-26T06:02:08.869453",
          "exception": false,
          "start_time": "2020-08-26T06:02:06.462221",
          "status": "completed"
        },
        "tags": [],
        "id": "Ha0JmefqhIOF",
        "outputId": "a2109a6b-791e-459f-da0d-2904280ee933"
      },
      "source": [
        "params ={'alpha' :[0.0001, 0.001, 0.01, 0.1, 1, 10, 100, 1000, 10000, 100000]}\n",
        "ridge_regressor =GridSearchCV(Ridge(), params ,cv =5,scoring = 'neg_mean_absolute_error', n_jobs =-1)\n",
        "ridge_regressor.fit(X_train ,y_train)"
      ],
      "execution_count": null,
      "outputs": [
        {
          "output_type": "execute_result",
          "data": {
            "text/plain": [
              "GridSearchCV(cv=5, estimator=Ridge(), n_jobs=-1,\n",
              "             param_grid={'alpha': [0.0001, 0.001, 0.01, 0.1, 1, 10, 100, 1000,\n",
              "                                   10000, 100000]},\n",
              "             scoring='neg_mean_absolute_error')"
            ]
          },
          "metadata": {
            "tags": []
          },
          "execution_count": 55
        }
      ]
    },
    {
      "cell_type": "code",
      "metadata": {
        "execution": {
          "iopub.execute_input": "2020-08-26T06:02:08.944974Z",
          "iopub.status.busy": "2020-08-26T06:02:08.943992Z",
          "iopub.status.idle": "2020-08-26T06:02:08.949181Z",
          "shell.execute_reply": "2020-08-26T06:02:08.949738Z"
        },
        "papermill": {
          "duration": 0.045967,
          "end_time": "2020-08-26T06:02:08.949906",
          "exception": false,
          "start_time": "2020-08-26T06:02:08.903939",
          "status": "completed"
        },
        "tags": [],
        "id": "l5qvARuThIOF",
        "outputId": "7902ad4a-d639-4ee1-ab5f-320e515fba32"
      },
      "source": [
        "print(ridge_regressor.best_estimator_)\n",
        "ridge_regressor.best_params_"
      ],
      "execution_count": null,
      "outputs": [
        {
          "output_type": "stream",
          "text": [
            "Ridge(alpha=100)\n"
          ],
          "name": "stdout"
        },
        {
          "output_type": "execute_result",
          "data": {
            "text/plain": [
              "{'alpha': 100}"
            ]
          },
          "metadata": {
            "tags": []
          },
          "execution_count": 56
        }
      ]
    },
    {
      "cell_type": "code",
      "metadata": {
        "execution": {
          "iopub.execute_input": "2020-08-26T06:02:09.025577Z",
          "iopub.status.busy": "2020-08-26T06:02:09.024643Z",
          "iopub.status.idle": "2020-08-26T06:02:09.028303Z",
          "shell.execute_reply": "2020-08-26T06:02:09.028902Z"
        },
        "papermill": {
          "duration": 0.044539,
          "end_time": "2020-08-26T06:02:09.029063",
          "exception": false,
          "start_time": "2020-08-26T06:02:08.984524",
          "status": "completed"
        },
        "tags": [],
        "id": "XseH84OnhIOF"
      },
      "source": [
        "y_train_pred =ridge_regressor.predict(X_train) ##Predict train result\n",
        "y_test_pred =ridge_regressor.predict(X_test) ##Predict test result"
      ],
      "execution_count": null,
      "outputs": []
    },
    {
      "cell_type": "code",
      "metadata": {
        "execution": {
          "iopub.execute_input": "2020-08-26T06:02:09.105445Z",
          "iopub.status.busy": "2020-08-26T06:02:09.104396Z",
          "iopub.status.idle": "2020-08-26T06:02:09.112482Z",
          "shell.execute_reply": "2020-08-26T06:02:09.111925Z"
        },
        "papermill": {
          "duration": 0.049006,
          "end_time": "2020-08-26T06:02:09.112602",
          "exception": false,
          "start_time": "2020-08-26T06:02:09.063596",
          "status": "completed"
        },
        "tags": [],
        "id": "Inrkj7tihIOF",
        "outputId": "0ce85e32-2c22-42e6-a17d-50ab62a3f8dc"
      },
      "source": [
        "print(\"Train Results for Ridge Regressor Model:\")\n",
        "print(50 * '-')\n",
        "print(\"Root mean squared error: \", sqrt(mse(y_train.values, y_train_pred)))\n",
        "print(\"R-squared: \", r2_score(y_train.values, y_train_pred))"
      ],
      "execution_count": null,
      "outputs": [
        {
          "output_type": "stream",
          "text": [
            "Train Results for Ridge Regressor Model:\n",
            "--------------------------------------------------\n",
            "Root mean squared error:  2619.652124032402\n",
            "R-squared:  0.685303397248121\n"
          ],
          "name": "stdout"
        }
      ]
    },
    {
      "cell_type": "code",
      "metadata": {
        "execution": {
          "iopub.execute_input": "2020-08-26T06:02:09.190632Z",
          "iopub.status.busy": "2020-08-26T06:02:09.189515Z",
          "iopub.status.idle": "2020-08-26T06:02:09.195966Z",
          "shell.execute_reply": "2020-08-26T06:02:09.196592Z"
        },
        "papermill": {
          "duration": 0.04959,
          "end_time": "2020-08-26T06:02:09.196761",
          "exception": false,
          "start_time": "2020-08-26T06:02:09.147171",
          "status": "completed"
        },
        "tags": [],
        "id": "p5RRYFaGhIOG",
        "outputId": "7cc64123-432e-4f8d-9582-aa9dd15fa401"
      },
      "source": [
        "print(\"Test Results for Ridge Regressor Model:\")\n",
        "print(50 * '-')\n",
        "print(\"Root mean squared error: \", sqrt(mse(y_test, y_test_pred)))\n",
        "print(\"R-squared: \", r2_score(y_test, y_test_pred))"
      ],
      "execution_count": null,
      "outputs": [
        {
          "output_type": "stream",
          "text": [
            "Test Results for Ridge Regressor Model:\n",
            "--------------------------------------------------\n",
            "Root mean squared error:  2498.4905025278736\n",
            "R-squared:  0.6831429698507949\n"
          ],
          "name": "stdout"
        }
      ]
    },
    {
      "cell_type": "markdown",
      "metadata": {
        "papermill": {
          "duration": 0.034866,
          "end_time": "2020-08-26T06:02:09.266082",
          "exception": false,
          "start_time": "2020-08-26T06:02:09.231216",
          "status": "completed"
        },
        "tags": [],
        "id": "zPtZ96uZhIOG"
      },
      "source": [
        "#### Lasso Regressor"
      ]
    },
    {
      "cell_type": "code",
      "metadata": {
        "execution": {
          "iopub.execute_input": "2020-08-26T06:02:09.344416Z",
          "iopub.status.busy": "2020-08-26T06:02:09.343647Z",
          "iopub.status.idle": "2020-08-26T06:02:22.591301Z",
          "shell.execute_reply": "2020-08-26T06:02:22.591901Z"
        },
        "papermill": {
          "duration": 13.290972,
          "end_time": "2020-08-26T06:02:22.592073",
          "exception": false,
          "start_time": "2020-08-26T06:02:09.301101",
          "status": "completed"
        },
        "tags": [],
        "id": "K81jk9tohIOG",
        "outputId": "da40373e-889d-4dd3-bd98-ed04de87a8be"
      },
      "source": [
        "params ={'alpha' :[0.0001, 0.001, 0.01, 0.1, 1, 10, 100, 1000, 10000, 100000]}\n",
        "lasso_regressor =GridSearchCV(Lasso(), params ,cv =15,scoring = 'neg_mean_absolute_error', n_jobs =-1)\n",
        "lasso_regressor.fit(X_train ,y_train)"
      ],
      "execution_count": null,
      "outputs": [
        {
          "output_type": "execute_result",
          "data": {
            "text/plain": [
              "GridSearchCV(cv=15, estimator=Lasso(), n_jobs=-1,\n",
              "             param_grid={'alpha': [0.0001, 0.001, 0.01, 0.1, 1, 10, 100, 1000,\n",
              "                                   10000, 100000]},\n",
              "             scoring='neg_mean_absolute_error')"
            ]
          },
          "metadata": {
            "tags": []
          },
          "execution_count": 60
        }
      ]
    },
    {
      "cell_type": "code",
      "metadata": {
        "execution": {
          "iopub.execute_input": "2020-08-26T06:02:22.668848Z",
          "iopub.status.busy": "2020-08-26T06:02:22.667811Z",
          "iopub.status.idle": "2020-08-26T06:02:22.674482Z",
          "shell.execute_reply": "2020-08-26T06:02:22.673796Z"
        },
        "papermill": {
          "duration": 0.047668,
          "end_time": "2020-08-26T06:02:22.674601",
          "exception": false,
          "start_time": "2020-08-26T06:02:22.626933",
          "status": "completed"
        },
        "tags": [],
        "id": "h2ks1QkchIOJ",
        "outputId": "b872c849-28f3-4fa9-d601-c5002e52b5f0"
      },
      "source": [
        "print(lasso_regressor.best_estimator_)\n",
        "lasso_regressor.best_params_"
      ],
      "execution_count": null,
      "outputs": [
        {
          "output_type": "stream",
          "text": [
            "Lasso(alpha=10)\n"
          ],
          "name": "stdout"
        },
        {
          "output_type": "execute_result",
          "data": {
            "text/plain": [
              "{'alpha': 10}"
            ]
          },
          "metadata": {
            "tags": []
          },
          "execution_count": 61
        }
      ]
    },
    {
      "cell_type": "code",
      "metadata": {
        "execution": {
          "iopub.execute_input": "2020-08-26T06:02:22.750533Z",
          "iopub.status.busy": "2020-08-26T06:02:22.749641Z",
          "iopub.status.idle": "2020-08-26T06:02:22.754362Z",
          "shell.execute_reply": "2020-08-26T06:02:22.753698Z"
        },
        "papermill": {
          "duration": 0.04497,
          "end_time": "2020-08-26T06:02:22.754487",
          "exception": false,
          "start_time": "2020-08-26T06:02:22.709517",
          "status": "completed"
        },
        "tags": [],
        "id": "czRWvWSihIOK"
      },
      "source": [
        "y_train_pred =lasso_regressor.predict(X_train) ##Predict train result\n",
        "y_test_pred =lasso_regressor.predict(X_test) ##Predict test result"
      ],
      "execution_count": null,
      "outputs": []
    },
    {
      "cell_type": "code",
      "metadata": {
        "execution": {
          "iopub.execute_input": "2020-08-26T06:02:22.833356Z",
          "iopub.status.busy": "2020-08-26T06:02:22.832330Z",
          "iopub.status.idle": "2020-08-26T06:02:22.838928Z",
          "shell.execute_reply": "2020-08-26T06:02:22.838345Z"
        },
        "papermill": {
          "duration": 0.04923,
          "end_time": "2020-08-26T06:02:22.839053",
          "exception": false,
          "start_time": "2020-08-26T06:02:22.789823",
          "status": "completed"
        },
        "tags": [],
        "id": "M0sfo4EUhIOK",
        "outputId": "09eed2e1-fadd-48a8-d8a4-4b4238f73108"
      },
      "source": [
        "print(\"Train Results for Lasso Regressor Model:\")\n",
        "print(50 * '-')\n",
        "print(\"Root mean squared error: \", sqrt(mse(y_train.values, y_train_pred)))\n",
        "print(\"R-squared: \", r2_score(y_train.values, y_train_pred))"
      ],
      "execution_count": null,
      "outputs": [
        {
          "output_type": "stream",
          "text": [
            "Train Results for Lasso Regressor Model:\n",
            "--------------------------------------------------\n",
            "Root mean squared error:  2619.7113689837133\n",
            "R-squared:  0.6852891629949838\n"
          ],
          "name": "stdout"
        }
      ]
    },
    {
      "cell_type": "code",
      "metadata": {
        "execution": {
          "iopub.execute_input": "2020-08-26T06:02:22.920042Z",
          "iopub.status.busy": "2020-08-26T06:02:22.919042Z",
          "iopub.status.idle": "2020-08-26T06:02:22.924876Z",
          "shell.execute_reply": "2020-08-26T06:02:22.925673Z"
        },
        "papermill": {
          "duration": 0.051362,
          "end_time": "2020-08-26T06:02:22.925904",
          "exception": false,
          "start_time": "2020-08-26T06:02:22.874542",
          "status": "completed"
        },
        "tags": [],
        "id": "u_PlFbvDhIOK",
        "outputId": "3aafb256-aa79-4f77-eaeb-4eac3c2609aa"
      },
      "source": [
        "print(\"Test Results for Lasso Regressor Model:\")\n",
        "print(50 * '-')\n",
        "print(\"Root mean squared error: \", sqrt(mse(y_test, y_test_pred)))\n",
        "print(\"R-squared: \", r2_score(y_test, y_test_pred))"
      ],
      "execution_count": null,
      "outputs": [
        {
          "output_type": "stream",
          "text": [
            "Test Results for Lasso Regressor Model:\n",
            "--------------------------------------------------\n",
            "Root mean squared error:  2495.4706657910297\n",
            "R-squared:  0.683908454642328\n"
          ],
          "name": "stdout"
        }
      ]
    },
    {
      "cell_type": "markdown",
      "metadata": {
        "papermill": {
          "duration": 0.035517,
          "end_time": "2020-08-26T06:02:22.997708",
          "exception": false,
          "start_time": "2020-08-26T06:02:22.962191",
          "status": "completed"
        },
        "tags": [],
        "id": "aQnnettxhIOK"
      },
      "source": [
        "#### Decision Tree Regressor"
      ]
    },
    {
      "cell_type": "code",
      "metadata": {
        "execution": {
          "iopub.execute_input": "2020-08-26T06:02:23.078812Z",
          "iopub.status.busy": "2020-08-26T06:02:23.077605Z",
          "iopub.status.idle": "2020-08-26T06:02:30.926086Z",
          "shell.execute_reply": "2020-08-26T06:02:30.925340Z"
        },
        "papermill": {
          "duration": 7.891691,
          "end_time": "2020-08-26T06:02:30.926219",
          "exception": false,
          "start_time": "2020-08-26T06:02:23.034528",
          "status": "completed"
        },
        "tags": [],
        "id": "xb2artvzhIOK",
        "outputId": "29caae41-7793-447b-c618-76dfac13aba3"
      },
      "source": [
        "depth  =list(range(3,30))\n",
        "param_grid =dict(max_depth =depth)\n",
        "tree =GridSearchCV(DecisionTreeRegressor(),param_grid,cv =10)\n",
        "tree.fit(X_train,y_train)"
      ],
      "execution_count": null,
      "outputs": [
        {
          "output_type": "execute_result",
          "data": {
            "text/plain": [
              "GridSearchCV(cv=10, estimator=DecisionTreeRegressor(),\n",
              "             param_grid={'max_depth': [3, 4, 5, 6, 7, 8, 9, 10, 11, 12, 13, 14,\n",
              "                                       15, 16, 17, 18, 19, 20, 21, 22, 23, 24,\n",
              "                                       25, 26, 27, 28, 29]})"
            ]
          },
          "metadata": {
            "tags": []
          },
          "execution_count": 65
        }
      ]
    },
    {
      "cell_type": "code",
      "metadata": {
        "execution": {
          "iopub.execute_input": "2020-08-26T06:02:31.004604Z",
          "iopub.status.busy": "2020-08-26T06:02:31.003674Z",
          "iopub.status.idle": "2020-08-26T06:02:31.009298Z",
          "shell.execute_reply": "2020-08-26T06:02:31.008681Z"
        },
        "papermill": {
          "duration": 0.047398,
          "end_time": "2020-08-26T06:02:31.009423",
          "exception": false,
          "start_time": "2020-08-26T06:02:30.962025",
          "status": "completed"
        },
        "tags": [],
        "id": "PVNpH8VxhIOL",
        "outputId": "cd1254bf-8068-4fc5-9127-326dadf1fa7e"
      },
      "source": [
        "print(tree.best_estimator_)\n",
        "tree.best_params_"
      ],
      "execution_count": null,
      "outputs": [
        {
          "output_type": "stream",
          "text": [
            "DecisionTreeRegressor(max_depth=12)\n"
          ],
          "name": "stdout"
        },
        {
          "output_type": "execute_result",
          "data": {
            "text/plain": [
              "{'max_depth': 12}"
            ]
          },
          "metadata": {
            "tags": []
          },
          "execution_count": 66
        }
      ]
    },
    {
      "cell_type": "code",
      "metadata": {
        "execution": {
          "iopub.execute_input": "2020-08-26T06:02:31.086944Z",
          "iopub.status.busy": "2020-08-26T06:02:31.086178Z",
          "iopub.status.idle": "2020-08-26T06:02:31.092100Z",
          "shell.execute_reply": "2020-08-26T06:02:31.091365Z"
        },
        "papermill": {
          "duration": 0.046836,
          "end_time": "2020-08-26T06:02:31.092230",
          "exception": false,
          "start_time": "2020-08-26T06:02:31.045394",
          "status": "completed"
        },
        "tags": [],
        "id": "mkUAJ9CthIOL"
      },
      "source": [
        "y_train_pred =tree.predict(X_train) ##Predict train result\n",
        "y_test_pred =tree.predict(X_test) ##Predict test result"
      ],
      "execution_count": null,
      "outputs": []
    },
    {
      "cell_type": "code",
      "metadata": {
        "execution": {
          "iopub.execute_input": "2020-08-26T06:02:31.172883Z",
          "iopub.status.busy": "2020-08-26T06:02:31.171780Z",
          "iopub.status.idle": "2020-08-26T06:02:31.177940Z",
          "shell.execute_reply": "2020-08-26T06:02:31.177333Z"
        },
        "papermill": {
          "duration": 0.049727,
          "end_time": "2020-08-26T06:02:31.178067",
          "exception": false,
          "start_time": "2020-08-26T06:02:31.128340",
          "status": "completed"
        },
        "tags": [],
        "id": "rR3tUEH7hIOL",
        "outputId": "aa0866fd-3803-4600-8a6c-62a4b19be996"
      },
      "source": [
        "print(\"Train Results for Decision Tree Regressor Model:\")\n",
        "print(50 * '-')\n",
        "print(\"Root mean squared error: \", sqrt(mse(y_train.values, y_train_pred)))\n",
        "print(\"R-squared: \", r2_score(y_train.values, y_train_pred))"
      ],
      "execution_count": null,
      "outputs": [
        {
          "output_type": "stream",
          "text": [
            "Train Results for Decision Tree Regressor Model:\n",
            "--------------------------------------------------\n",
            "Root mean squared error:  1085.0724426921256\n",
            "R-squared:  0.9460088875090046\n"
          ],
          "name": "stdout"
        }
      ]
    },
    {
      "cell_type": "code",
      "metadata": {
        "execution": {
          "iopub.execute_input": "2020-08-26T06:02:31.258509Z",
          "iopub.status.busy": "2020-08-26T06:02:31.257322Z",
          "iopub.status.idle": "2020-08-26T06:02:31.264045Z",
          "shell.execute_reply": "2020-08-26T06:02:31.263210Z"
        },
        "papermill": {
          "duration": 0.049874,
          "end_time": "2020-08-26T06:02:31.264198",
          "exception": false,
          "start_time": "2020-08-26T06:02:31.214324",
          "status": "completed"
        },
        "tags": [],
        "id": "jQ-3EDT9hIOL",
        "outputId": "f937a2ac-971b-4740-8867-28759ed883f1"
      },
      "source": [
        "print(\"Test Results for Decision Tree Regressor Model:\")\n",
        "print(50 * '-')\n",
        "print(\"Root mean squared error: \", sqrt(mse(y_test, y_test_pred)))\n",
        "print(\"R-squared: \", r2_score(y_test, y_test_pred))"
      ],
      "execution_count": null,
      "outputs": [
        {
          "output_type": "stream",
          "text": [
            "Test Results for Decision Tree Regressor Model:\n",
            "--------------------------------------------------\n",
            "Root mean squared error:  1694.7593606939092\n",
            "R-squared:  0.8542112460173359\n"
          ],
          "name": "stdout"
        }
      ]
    },
    {
      "cell_type": "markdown",
      "metadata": {
        "papermill": {
          "duration": 0.035995,
          "end_time": "2020-08-26T06:02:31.336662",
          "exception": false,
          "start_time": "2020-08-26T06:02:31.300667",
          "status": "completed"
        },
        "tags": [],
        "id": "41Q6G518hIOL"
      },
      "source": [
        "#### Random Forest Regressor"
      ]
    },
    {
      "cell_type": "code",
      "metadata": {
        "execution": {
          "iopub.execute_input": "2020-08-26T06:02:31.419066Z",
          "iopub.status.busy": "2020-08-26T06:02:31.418312Z",
          "iopub.status.idle": "2020-08-26T06:06:18.579318Z",
          "shell.execute_reply": "2020-08-26T06:06:18.579970Z"
        },
        "papermill": {
          "duration": 227.207248,
          "end_time": "2020-08-26T06:06:18.580143",
          "exception": false,
          "start_time": "2020-08-26T06:02:31.372895",
          "status": "completed"
        },
        "tags": [],
        "id": "i4xDVY1XhIOL",
        "outputId": "36360a32-21d7-480b-dee7-116ae9c3821d"
      },
      "source": [
        "tuned_params = {'n_estimators': [100, 200, 300, 400, 500], 'min_samples_split': [2, 5, 10], 'min_samples_leaf': [1, 2, 4]}\n",
        "random_regressor = RandomizedSearchCV(RandomForestRegressor(), tuned_params, n_iter = 20, scoring = 'neg_mean_absolute_error', cv = 5, n_jobs = -1)\n",
        "random_regressor.fit(X_train, y_train)"
      ],
      "execution_count": null,
      "outputs": [
        {
          "output_type": "execute_result",
          "data": {
            "text/plain": [
              "RandomizedSearchCV(cv=5, estimator=RandomForestRegressor(), n_iter=20,\n",
              "                   n_jobs=-1,\n",
              "                   param_distributions={'min_samples_leaf': [1, 2, 4],\n",
              "                                        'min_samples_split': [2, 5, 10],\n",
              "                                        'n_estimators': [100, 200, 300, 400,\n",
              "                                                         500]},\n",
              "                   scoring='neg_mean_absolute_error')"
            ]
          },
          "metadata": {
            "tags": []
          },
          "execution_count": 70
        }
      ]
    },
    {
      "cell_type": "code",
      "metadata": {
        "execution": {
          "iopub.execute_input": "2020-08-26T06:06:18.660208Z",
          "iopub.status.busy": "2020-08-26T06:06:18.659399Z",
          "iopub.status.idle": "2020-08-26T06:06:18.665874Z",
          "shell.execute_reply": "2020-08-26T06:06:18.665063Z"
        },
        "papermill": {
          "duration": 0.049263,
          "end_time": "2020-08-26T06:06:18.666040",
          "exception": false,
          "start_time": "2020-08-26T06:06:18.616777",
          "status": "completed"
        },
        "tags": [],
        "id": "LIQqOzYDhIOM",
        "outputId": "e68a7bb5-123d-4553-fb37-41d023cc8475"
      },
      "source": [
        "print(random_regressor.best_estimator_)\n",
        "random_regressor.best_params_"
      ],
      "execution_count": null,
      "outputs": [
        {
          "output_type": "stream",
          "text": [
            "RandomForestRegressor()\n"
          ],
          "name": "stdout"
        },
        {
          "output_type": "execute_result",
          "data": {
            "text/plain": [
              "{'n_estimators': 100, 'min_samples_split': 2, 'min_samples_leaf': 1}"
            ]
          },
          "metadata": {
            "tags": []
          },
          "execution_count": 71
        }
      ]
    },
    {
      "cell_type": "code",
      "metadata": {
        "execution": {
          "iopub.execute_input": "2020-08-26T06:06:18.745190Z",
          "iopub.status.busy": "2020-08-26T06:06:18.744461Z",
          "iopub.status.idle": "2020-08-26T06:06:19.139505Z",
          "shell.execute_reply": "2020-08-26T06:06:19.138684Z"
        },
        "papermill": {
          "duration": 0.436433,
          "end_time": "2020-08-26T06:06:19.139640",
          "exception": false,
          "start_time": "2020-08-26T06:06:18.703207",
          "status": "completed"
        },
        "tags": [],
        "id": "wIovZ1mPhIOM"
      },
      "source": [
        "y_train_pred = random_regressor.predict(X_train)\n",
        "y_test_pred = random_regressor.predict(X_test)"
      ],
      "execution_count": null,
      "outputs": []
    },
    {
      "cell_type": "code",
      "metadata": {
        "execution": {
          "iopub.execute_input": "2020-08-26T06:06:19.221786Z",
          "iopub.status.busy": "2020-08-26T06:06:19.220512Z",
          "iopub.status.idle": "2020-08-26T06:06:19.226334Z",
          "shell.execute_reply": "2020-08-26T06:06:19.227044Z"
        },
        "papermill": {
          "duration": 0.050377,
          "end_time": "2020-08-26T06:06:19.227195",
          "exception": false,
          "start_time": "2020-08-26T06:06:19.176818",
          "status": "completed"
        },
        "tags": [],
        "id": "7BJfFE-whIOM",
        "outputId": "43f1a963-17fc-483d-d30e-ecfaeec85faa"
      },
      "source": [
        "print(\"Train Results for Random Forest Regressor Model:\")\n",
        "print(50 * '-')\n",
        "print(\"Root mean squared error: \", sqrt(mse(y_train.values, y_train_pred)))\n",
        "print(\"R-squared: \", r2_score(y_train.values, y_train_pred))"
      ],
      "execution_count": null,
      "outputs": [
        {
          "output_type": "stream",
          "text": [
            "Train Results for Random Forest Regressor Model:\n",
            "--------------------------------------------------\n",
            "Root mean squared error:  752.308731272166\n",
            "R-squared:  0.9740464355044142\n"
          ],
          "name": "stdout"
        }
      ]
    },
    {
      "cell_type": "code",
      "metadata": {
        "execution": {
          "iopub.execute_input": "2020-08-26T06:06:19.309360Z",
          "iopub.status.busy": "2020-08-26T06:06:19.308477Z",
          "iopub.status.idle": "2020-08-26T06:06:19.312121Z",
          "shell.execute_reply": "2020-08-26T06:06:19.312843Z"
        },
        "papermill": {
          "duration": 0.04852,
          "end_time": "2020-08-26T06:06:19.312998",
          "exception": false,
          "start_time": "2020-08-26T06:06:19.264478",
          "status": "completed"
        },
        "tags": [],
        "id": "p90FnlV-hIOM",
        "outputId": "380e14a4-b22d-4314-dccb-9a23f7112258"
      },
      "source": [
        "print(\"Test Results for Random Forest Regressor Model:\")\n",
        "print(50 * '-')\n",
        "print(\"Root mean squared error: \", sqrt(mse(y_test, y_test_pred)))\n",
        "print(\"R-squared: \", r2_score(y_test, y_test_pred))"
      ],
      "execution_count": null,
      "outputs": [
        {
          "output_type": "stream",
          "text": [
            "Test Results for Random Forest Regressor Model:\n",
            "--------------------------------------------------\n",
            "Root mean squared error:  1636.3324476824448\n",
            "R-squared:  0.8640901208967379\n"
          ],
          "name": "stdout"
        }
      ]
    },
    {
      "cell_type": "markdown",
      "metadata": {
        "papermill": {
          "duration": 0.036619,
          "end_time": "2020-08-26T06:06:19.386953",
          "exception": false,
          "start_time": "2020-08-26T06:06:19.350334",
          "status": "completed"
        },
        "tags": [],
        "id": "L53usZdmhIOM"
      },
      "source": [
        "#### XGBoost Regressor"
      ]
    },
    {
      "cell_type": "code",
      "metadata": {
        "execution": {
          "iopub.execute_input": "2020-08-26T06:06:19.471118Z",
          "iopub.status.busy": "2020-08-26T06:06:19.470334Z",
          "iopub.status.idle": "2020-08-26T06:07:57.372889Z",
          "shell.execute_reply": "2020-08-26T06:07:57.373602Z"
        },
        "papermill": {
          "duration": 97.949763,
          "end_time": "2020-08-26T06:07:57.373853",
          "exception": false,
          "start_time": "2020-08-26T06:06:19.424090",
          "status": "completed"
        },
        "tags": [],
        "id": "rvY0ql2rhIOM",
        "outputId": "f448fa75-111b-47b9-954b-9f5d3d78b662"
      },
      "source": [
        "tuned_params = {'max_depth': [1, 2, 3, 4, 5], 'learning_rate': [0.01, 0.05, 0.1], 'n_estimators': [100, 200, 300, 400, 500], 'reg_lambda': [0.001, 0.1, 1.0, 10.0, 100.0]}\n",
        "model = RandomizedSearchCV(XGBRegressor(), tuned_params, n_iter=20, scoring = 'neg_mean_absolute_error', cv=5, n_jobs=-1)\n",
        "model.fit(X_train, y_train)"
      ],
      "execution_count": null,
      "outputs": [
        {
          "output_type": "execute_result",
          "data": {
            "text/plain": [
              "RandomizedSearchCV(cv=5,\n",
              "                   estimator=XGBRegressor(base_score=None, booster=None,\n",
              "                                          colsample_bylevel=None,\n",
              "                                          colsample_bynode=None,\n",
              "                                          colsample_bytree=None, gamma=None,\n",
              "                                          gpu_id=None, importance_type='gain',\n",
              "                                          interaction_constraints=None,\n",
              "                                          learning_rate=None,\n",
              "                                          max_delta_step=None, max_depth=None,\n",
              "                                          min_child_weight=None, missing=nan,\n",
              "                                          monotone_constraints=None,\n",
              "                                          n_estimators=100, n...\n",
              "                                          random_state=None, reg_alpha=None,\n",
              "                                          reg_lambda=None,\n",
              "                                          scale_pos_weight=None, subsample=None,\n",
              "                                          tree_method=None,\n",
              "                                          validate_parameters=None,\n",
              "                                          verbosity=None),\n",
              "                   n_iter=20, n_jobs=-1,\n",
              "                   param_distributions={'learning_rate': [0.01, 0.05, 0.1],\n",
              "                                        'max_depth': [1, 2, 3, 4, 5],\n",
              "                                        'n_estimators': [100, 200, 300, 400,\n",
              "                                                         500],\n",
              "                                        'reg_lambda': [0.001, 0.1, 1.0, 10.0,\n",
              "                                                       100.0]},\n",
              "                   scoring='neg_mean_absolute_error')"
            ]
          },
          "metadata": {
            "tags": []
          },
          "execution_count": 75
        }
      ]
    },
    {
      "cell_type": "code",
      "metadata": {
        "execution": {
          "iopub.execute_input": "2020-08-26T06:07:57.473999Z",
          "iopub.status.busy": "2020-08-26T06:07:57.473168Z",
          "iopub.status.idle": "2020-08-26T06:07:57.506285Z",
          "shell.execute_reply": "2020-08-26T06:07:57.505527Z"
        },
        "papermill": {
          "duration": 0.086573,
          "end_time": "2020-08-26T06:07:57.506406",
          "exception": false,
          "start_time": "2020-08-26T06:07:57.419833",
          "status": "completed"
        },
        "tags": [],
        "id": "1uRduzHxhION",
        "outputId": "f3bdba70-df83-4922-83cc-c570faf0a834"
      },
      "source": [
        "print(model.best_estimator_)\n",
        "model.best_params_"
      ],
      "execution_count": null,
      "outputs": [
        {
          "output_type": "stream",
          "text": [
            "XGBRegressor(base_score=0.5, booster='gbtree', colsample_bylevel=1,\n",
            "             colsample_bynode=1, colsample_bytree=1, gamma=0, gpu_id=-1,\n",
            "             importance_type='gain', interaction_constraints='',\n",
            "             learning_rate=0.1, max_delta_step=0, max_depth=4,\n",
            "             min_child_weight=1, missing=nan, monotone_constraints='()',\n",
            "             n_estimators=400, n_jobs=8, num_parallel_tree=1, random_state=0,\n",
            "             reg_alpha=0, reg_lambda=0.001, scale_pos_weight=1, subsample=1,\n",
            "             tree_method='exact', validate_parameters=1, verbosity=None)\n"
          ],
          "name": "stdout"
        },
        {
          "output_type": "execute_result",
          "data": {
            "text/plain": [
              "{'reg_lambda': 0.001,\n",
              " 'n_estimators': 400,\n",
              " 'max_depth': 4,\n",
              " 'learning_rate': 0.1}"
            ]
          },
          "metadata": {
            "tags": []
          },
          "execution_count": 76
        }
      ]
    },
    {
      "cell_type": "code",
      "metadata": {
        "execution": {
          "iopub.execute_input": "2020-08-26T06:07:57.589098Z",
          "iopub.status.busy": "2020-08-26T06:07:57.588128Z",
          "iopub.status.idle": "2020-08-26T06:07:57.651578Z",
          "shell.execute_reply": "2020-08-26T06:07:57.652330Z"
        },
        "papermill": {
          "duration": 0.107915,
          "end_time": "2020-08-26T06:07:57.652522",
          "exception": false,
          "start_time": "2020-08-26T06:07:57.544607",
          "status": "completed"
        },
        "tags": [],
        "id": "9RG9yHaQhION"
      },
      "source": [
        "y_train_pred = model.predict(X_train)\n",
        "y_test_pred = model.predict(X_test)"
      ],
      "execution_count": null,
      "outputs": []
    },
    {
      "cell_type": "code",
      "metadata": {
        "execution": {
          "iopub.execute_input": "2020-08-26T06:07:57.752803Z",
          "iopub.status.busy": "2020-08-26T06:07:57.751641Z",
          "iopub.status.idle": "2020-08-26T06:07:57.757685Z",
          "shell.execute_reply": "2020-08-26T06:07:57.758500Z"
        },
        "papermill": {
          "duration": 0.059426,
          "end_time": "2020-08-26T06:07:57.758673",
          "exception": false,
          "start_time": "2020-08-26T06:07:57.699247",
          "status": "completed"
        },
        "tags": [],
        "id": "2feJiTT7hION",
        "outputId": "2659eb1a-48b8-46d5-a2f5-0494c0d957e8"
      },
      "source": [
        "print(\"Train Results for XGBoost Regressor Model:\")\n",
        "print(50 * '-')\n",
        "print(\"Root mean squared error: \", sqrt(mse(y_train.values, y_train_pred)))\n",
        "print(\"R-squared: \", r2_score(y_train.values, y_train_pred))"
      ],
      "execution_count": null,
      "outputs": [
        {
          "output_type": "stream",
          "text": [
            "Train Results for XGBoost Regressor Model:\n",
            "--------------------------------------------------\n",
            "Root mean squared error:  1403.5760993684069\n",
            "R-squared:  0.9096606967150774\n"
          ],
          "name": "stdout"
        }
      ]
    },
    {
      "cell_type": "code",
      "metadata": {
        "execution": {
          "iopub.execute_input": "2020-08-26T06:07:57.857037Z",
          "iopub.status.busy": "2020-08-26T06:07:57.856116Z",
          "iopub.status.idle": "2020-08-26T06:07:57.861288Z",
          "shell.execute_reply": "2020-08-26T06:07:57.860318Z"
        },
        "papermill": {
          "duration": 0.056765,
          "end_time": "2020-08-26T06:07:57.861442",
          "exception": false,
          "start_time": "2020-08-26T06:07:57.804677",
          "status": "completed"
        },
        "tags": [],
        "id": "cU941HY0hION",
        "outputId": "a3a9d8ee-bd2d-4775-de8e-248fc7cc04e0"
      },
      "source": [
        "print(\"Test Results for XGBoost Regressor Model:\")\n",
        "print(50 * '-')\n",
        "print(\"Root mean squared error: \", sqrt(mse(y_test, y_test_pred)))\n",
        "print(\"R-squared: \", r2_score(y_test, y_test_pred))"
      ],
      "execution_count": null,
      "outputs": [
        {
          "output_type": "stream",
          "text": [
            "Test Results for XGBoost Regressor Model:\n",
            "--------------------------------------------------\n",
            "Root mean squared error:  1518.935537486707\n",
            "R-squared:  0.8828919828270162\n"
          ],
          "name": "stdout"
        }
      ]
    },
    {
      "cell_type": "markdown",
      "metadata": {
        "id": "BOXuEFSJhIOO"
      },
      "source": [
        "## THANK YOU"
      ]
    }
  ]
}